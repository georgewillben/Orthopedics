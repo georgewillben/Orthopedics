{
 "cells": [
  {
   "cell_type": "markdown",
   "metadata": {},
   "source": [
    "# Logistic Regression Modeling"
   ]
  },
  {
   "cell_type": "code",
   "execution_count": 19,
   "metadata": {},
   "outputs": [],
   "source": [
    "#import libraries\n",
    "import numpy as np\n",
    "import pandas as pd\n",
    "import matplotlib.pyplot as plt\n",
    "%matplotlib inline\n",
    "\n",
    "from sklearn.preprocessing import StandardScaler\n",
    "from sklearn.model_selection import GridSearchCV, cross_validate\n",
    "from sklearn.linear_model import LogisticRegression\n",
    "from sklearn.metrics import recall_score, precision_score, accuracy_score, make_scorer\n",
    "\n",
    "import warnings\n",
    "warnings.filterwarnings(\"ignore\")"
   ]
  },
  {
   "cell_type": "markdown",
   "metadata": {},
   "source": [
    "# 1.1 Load Data"
   ]
  },
  {
   "cell_type": "code",
   "execution_count": 20,
   "metadata": {},
   "outputs": [
    {
     "data": {
      "text/html": [
       "<div>\n",
       "<style scoped>\n",
       "    .dataframe tbody tr th:only-of-type {\n",
       "        vertical-align: middle;\n",
       "    }\n",
       "\n",
       "    .dataframe tbody tr th {\n",
       "        vertical-align: top;\n",
       "    }\n",
       "\n",
       "    .dataframe thead th {\n",
       "        text-align: right;\n",
       "    }\n",
       "</style>\n",
       "<table border=\"1\" class=\"dataframe\">\n",
       "  <thead>\n",
       "    <tr style=\"text-align: right;\">\n",
       "      <th></th>\n",
       "      <th>pelvic_incidence</th>\n",
       "      <th>pelvic_tilt</th>\n",
       "      <th>lumbar_lordosis_angle</th>\n",
       "      <th>sacral_slope</th>\n",
       "      <th>pelvic_radius</th>\n",
       "      <th>degree_spondylolisthesis</th>\n",
       "      <th>class</th>\n",
       "    </tr>\n",
       "  </thead>\n",
       "  <tbody>\n",
       "    <tr>\n",
       "      <th>0</th>\n",
       "      <td>80.111572</td>\n",
       "      <td>33.942432</td>\n",
       "      <td>85.101608</td>\n",
       "      <td>46.169139</td>\n",
       "      <td>125.593624</td>\n",
       "      <td>100.292107</td>\n",
       "      <td>Spondylolisthesis</td>\n",
       "    </tr>\n",
       "    <tr>\n",
       "      <th>1</th>\n",
       "      <td>63.404481</td>\n",
       "      <td>14.115327</td>\n",
       "      <td>48.136806</td>\n",
       "      <td>49.289153</td>\n",
       "      <td>111.916008</td>\n",
       "      <td>31.784495</td>\n",
       "      <td>Spondylolisthesis</td>\n",
       "    </tr>\n",
       "    <tr>\n",
       "      <th>2</th>\n",
       "      <td>52.419385</td>\n",
       "      <td>19.011561</td>\n",
       "      <td>35.872660</td>\n",
       "      <td>33.407825</td>\n",
       "      <td>116.559771</td>\n",
       "      <td>1.694705</td>\n",
       "      <td>Hernia</td>\n",
       "    </tr>\n",
       "    <tr>\n",
       "      <th>3</th>\n",
       "      <td>91.468741</td>\n",
       "      <td>24.508177</td>\n",
       "      <td>84.620272</td>\n",
       "      <td>66.960564</td>\n",
       "      <td>117.307897</td>\n",
       "      <td>52.623047</td>\n",
       "      <td>Spondylolisthesis</td>\n",
       "    </tr>\n",
       "    <tr>\n",
       "      <th>4</th>\n",
       "      <td>44.362490</td>\n",
       "      <td>8.945435</td>\n",
       "      <td>46.902096</td>\n",
       "      <td>35.417055</td>\n",
       "      <td>129.220682</td>\n",
       "      <td>4.994195</td>\n",
       "      <td>Normal</td>\n",
       "    </tr>\n",
       "  </tbody>\n",
       "</table>\n",
       "</div>"
      ],
      "text/plain": [
       "   pelvic_incidence  pelvic_tilt  lumbar_lordosis_angle  sacral_slope  \\\n",
       "0         80.111572    33.942432              85.101608     46.169139   \n",
       "1         63.404481    14.115327              48.136806     49.289153   \n",
       "2         52.419385    19.011561              35.872660     33.407825   \n",
       "3         91.468741    24.508177              84.620272     66.960564   \n",
       "4         44.362490     8.945435              46.902096     35.417055   \n",
       "\n",
       "   pelvic_radius  degree_spondylolisthesis              class  \n",
       "0     125.593624                100.292107  Spondylolisthesis  \n",
       "1     111.916008                 31.784495  Spondylolisthesis  \n",
       "2     116.559771                  1.694705             Hernia  \n",
       "3     117.307897                 52.623047  Spondylolisthesis  \n",
       "4     129.220682                  4.994195             Normal  "
      ]
     },
     "execution_count": 20,
     "metadata": {},
     "output_type": "execute_result"
    }
   ],
   "source": [
    "# non-engineered data\n",
    "df = pd.read_csv(\"train.csv\")\n",
    "\n",
    "# engineered data\n",
    "df_eng = pd.read_csv(\"train_engineered.csv\")\n",
    "\n",
    "df.head()"
   ]
  },
  {
   "cell_type": "code",
   "execution_count": 21,
   "metadata": {},
   "outputs": [
    {
     "data": {
      "text/html": [
       "<div>\n",
       "<style scoped>\n",
       "    .dataframe tbody tr th:only-of-type {\n",
       "        vertical-align: middle;\n",
       "    }\n",
       "\n",
       "    .dataframe tbody tr th {\n",
       "        vertical-align: top;\n",
       "    }\n",
       "\n",
       "    .dataframe thead th {\n",
       "        text-align: right;\n",
       "    }\n",
       "</style>\n",
       "<table border=\"1\" class=\"dataframe\">\n",
       "  <thead>\n",
       "    <tr style=\"text-align: right;\">\n",
       "      <th></th>\n",
       "      <th>lumbar_lordosis_angle</th>\n",
       "      <th>pelvic_radius</th>\n",
       "      <th>class__Hernia</th>\n",
       "      <th>class__Normal</th>\n",
       "      <th>class__Spondylolisthesis</th>\n",
       "    </tr>\n",
       "  </thead>\n",
       "  <tbody>\n",
       "    <tr>\n",
       "      <th>0</th>\n",
       "      <td>85.101608</td>\n",
       "      <td>125.593624</td>\n",
       "      <td>0</td>\n",
       "      <td>0</td>\n",
       "      <td>1</td>\n",
       "    </tr>\n",
       "    <tr>\n",
       "      <th>1</th>\n",
       "      <td>48.136806</td>\n",
       "      <td>111.916007</td>\n",
       "      <td>0</td>\n",
       "      <td>0</td>\n",
       "      <td>1</td>\n",
       "    </tr>\n",
       "    <tr>\n",
       "      <th>2</th>\n",
       "      <td>35.872660</td>\n",
       "      <td>116.559771</td>\n",
       "      <td>1</td>\n",
       "      <td>0</td>\n",
       "      <td>0</td>\n",
       "    </tr>\n",
       "    <tr>\n",
       "      <th>3</th>\n",
       "      <td>84.620272</td>\n",
       "      <td>117.307897</td>\n",
       "      <td>0</td>\n",
       "      <td>0</td>\n",
       "      <td>1</td>\n",
       "    </tr>\n",
       "    <tr>\n",
       "      <th>4</th>\n",
       "      <td>46.902096</td>\n",
       "      <td>129.220682</td>\n",
       "      <td>0</td>\n",
       "      <td>1</td>\n",
       "      <td>0</td>\n",
       "    </tr>\n",
       "  </tbody>\n",
       "</table>\n",
       "</div>"
      ],
      "text/plain": [
       "   lumbar_lordosis_angle  pelvic_radius  class__Hernia  class__Normal  \\\n",
       "0              85.101608     125.593624              0              0   \n",
       "1              48.136806     111.916007              0              0   \n",
       "2              35.872660     116.559771              1              0   \n",
       "3              84.620272     117.307897              0              0   \n",
       "4              46.902096     129.220682              0              1   \n",
       "\n",
       "   class__Spondylolisthesis  \n",
       "0                         1  \n",
       "1                         1  \n",
       "2                         0  \n",
       "3                         1  \n",
       "4                         0  "
      ]
     },
     "execution_count": 21,
     "metadata": {},
     "output_type": "execute_result"
    }
   ],
   "source": [
    "df_eng.head()"
   ]
  },
  {
   "cell_type": "markdown",
   "metadata": {},
   "source": [
    "# 1.2 One Hot Encode Target Variable"
   ]
  },
  {
   "cell_type": "code",
   "execution_count": 22,
   "metadata": {},
   "outputs": [
    {
     "data": {
      "text/html": [
       "<div>\n",
       "<style scoped>\n",
       "    .dataframe tbody tr th:only-of-type {\n",
       "        vertical-align: middle;\n",
       "    }\n",
       "\n",
       "    .dataframe tbody tr th {\n",
       "        vertical-align: top;\n",
       "    }\n",
       "\n",
       "    .dataframe thead th {\n",
       "        text-align: right;\n",
       "    }\n",
       "</style>\n",
       "<table border=\"1\" class=\"dataframe\">\n",
       "  <thead>\n",
       "    <tr style=\"text-align: right;\">\n",
       "      <th></th>\n",
       "      <th>pelvic_incidence</th>\n",
       "      <th>pelvic_tilt</th>\n",
       "      <th>lumbar_lordosis_angle</th>\n",
       "      <th>sacral_slope</th>\n",
       "      <th>pelvic_radius</th>\n",
       "      <th>degree_spondylolisthesis</th>\n",
       "      <th>class__Hernia</th>\n",
       "      <th>class__Normal</th>\n",
       "      <th>class__Spondylolisthesis</th>\n",
       "    </tr>\n",
       "  </thead>\n",
       "  <tbody>\n",
       "    <tr>\n",
       "      <th>0</th>\n",
       "      <td>80.111572</td>\n",
       "      <td>33.942432</td>\n",
       "      <td>85.101608</td>\n",
       "      <td>46.169139</td>\n",
       "      <td>125.593624</td>\n",
       "      <td>100.292107</td>\n",
       "      <td>0</td>\n",
       "      <td>0</td>\n",
       "      <td>1</td>\n",
       "    </tr>\n",
       "    <tr>\n",
       "      <th>1</th>\n",
       "      <td>63.404481</td>\n",
       "      <td>14.115327</td>\n",
       "      <td>48.136806</td>\n",
       "      <td>49.289153</td>\n",
       "      <td>111.916008</td>\n",
       "      <td>31.784495</td>\n",
       "      <td>0</td>\n",
       "      <td>0</td>\n",
       "      <td>1</td>\n",
       "    </tr>\n",
       "    <tr>\n",
       "      <th>2</th>\n",
       "      <td>52.419385</td>\n",
       "      <td>19.011561</td>\n",
       "      <td>35.872660</td>\n",
       "      <td>33.407825</td>\n",
       "      <td>116.559771</td>\n",
       "      <td>1.694705</td>\n",
       "      <td>1</td>\n",
       "      <td>0</td>\n",
       "      <td>0</td>\n",
       "    </tr>\n",
       "    <tr>\n",
       "      <th>3</th>\n",
       "      <td>91.468741</td>\n",
       "      <td>24.508177</td>\n",
       "      <td>84.620272</td>\n",
       "      <td>66.960564</td>\n",
       "      <td>117.307897</td>\n",
       "      <td>52.623047</td>\n",
       "      <td>0</td>\n",
       "      <td>0</td>\n",
       "      <td>1</td>\n",
       "    </tr>\n",
       "    <tr>\n",
       "      <th>4</th>\n",
       "      <td>44.362490</td>\n",
       "      <td>8.945435</td>\n",
       "      <td>46.902096</td>\n",
       "      <td>35.417055</td>\n",
       "      <td>129.220682</td>\n",
       "      <td>4.994195</td>\n",
       "      <td>0</td>\n",
       "      <td>1</td>\n",
       "      <td>0</td>\n",
       "    </tr>\n",
       "  </tbody>\n",
       "</table>\n",
       "</div>"
      ],
      "text/plain": [
       "   pelvic_incidence  pelvic_tilt  lumbar_lordosis_angle  sacral_slope  \\\n",
       "0         80.111572    33.942432              85.101608     46.169139   \n",
       "1         63.404481    14.115327              48.136806     49.289153   \n",
       "2         52.419385    19.011561              35.872660     33.407825   \n",
       "3         91.468741    24.508177              84.620272     66.960564   \n",
       "4         44.362490     8.945435              46.902096     35.417055   \n",
       "\n",
       "   pelvic_radius  degree_spondylolisthesis  class__Hernia  class__Normal  \\\n",
       "0     125.593624                100.292107              0              0   \n",
       "1     111.916008                 31.784495              0              0   \n",
       "2     116.559771                  1.694705              1              0   \n",
       "3     117.307897                 52.623047              0              0   \n",
       "4     129.220682                  4.994195              0              1   \n",
       "\n",
       "   class__Spondylolisthesis  \n",
       "0                         1  \n",
       "1                         1  \n",
       "2                         0  \n",
       "3                         1  \n",
       "4                         0  "
      ]
     },
     "execution_count": 22,
     "metadata": {},
     "output_type": "execute_result"
    }
   ],
   "source": [
    "# ohe non-engineered data\n",
    "dummies = pd.get_dummies(df[\"class\"], prefix=\"class_\")\n",
    "df.drop(\"class\", axis=1, inplace=True)\n",
    "df = pd.concat([df, dummies], axis=1)\n",
    "\n",
    "df.head()"
   ]
  },
  {
   "cell_type": "markdown",
   "metadata": {},
   "source": [
    "# 2.1 Preprocessing"
   ]
  },
  {
   "cell_type": "markdown",
   "metadata": {},
   "source": [
    "Here I will seperate the independent and dependent variables. I will also scale the independent variables."
   ]
  },
  {
   "cell_type": "code",
   "execution_count": 23,
   "metadata": {},
   "outputs": [
    {
     "data": {
      "text/plain": [
       "((279, 6), (279,), (279,), (279, 2), (279,), (279,))"
      ]
     },
     "execution_count": 23,
     "metadata": {},
     "output_type": "execute_result"
    }
   ],
   "source": [
    "# seperate independent and dependent variables\n",
    "\n",
    "targets = [col for col in df.columns if col.startswith(\"class\")]\n",
    "\n",
    "# non-engineered data\n",
    "X = df.drop(targets, axis=1)\n",
    "y_hernia = df[\"class__Hernia\"]\n",
    "y_spond = df[\"class__Spondylolisthesis\"]\n",
    "\n",
    "# engineered data\n",
    "Xe = df_eng.drop(targets, axis=1)\n",
    "ye_hernia = df_eng[\"class__Hernia\"]\n",
    "ye_spond = df_eng[\"class__Spondylolisthesis\"]\n",
    "\n",
    "X.shape, y_hernia.shape, y_spond.shape, Xe.shape, ye_hernia.shape, ye_spond.shape"
   ]
  },
  {
   "cell_type": "code",
   "execution_count": 24,
   "metadata": {},
   "outputs": [],
   "source": [
    "# scale data\n",
    "sc = StandardScaler()\n",
    "\n",
    "# non-engineered data\n",
    "X = sc.fit_transform(X)\n",
    "\n",
    "# engineered data\n",
    "Xe = sc.fit_transform(Xe)"
   ]
  },
  {
   "cell_type": "markdown",
   "metadata": {},
   "source": [
    "# 3.1 Baseline Models"
   ]
  },
  {
   "cell_type": "markdown",
   "metadata": {},
   "source": [
    "Here I will look at the baseline performance of the default LogisticRegression model on the data sets. I will use cross validation."
   ]
  },
  {
   "cell_type": "code",
   "execution_count": 25,
   "metadata": {},
   "outputs": [],
   "source": [
    "# instantiate the default logistic regression model\n",
    "clf = LogisticRegression()"
   ]
  },
  {
   "cell_type": "code",
   "execution_count": 26,
   "metadata": {},
   "outputs": [
    {
     "name": "stdout",
     "output_type": "stream",
     "text": [
      "\n",
      "\n",
      "recall\n",
      "[0.71428571 0.64285714 0.53846154 0.61538462]\n",
      "avg: 0.6277472527472527\n",
      "var: 0.003960496920661758\n",
      "\n",
      "\n",
      "precision\n",
      "[0.71428571 0.9        0.63636364 0.66666667]\n",
      "avg: 0.7293290043290043\n",
      "var: 0.010481004385225166\n",
      "\n",
      "\n",
      "accuracy\n",
      "[0.88732394 0.91428571 0.85507246 0.86956522]\n",
      "avg: 0.8815618347767765\n",
      "var: 0.0004874149485120506\n"
     ]
    }
   ],
   "source": [
    "# create a function to print desired scores\n",
    "scorers = [make_scorer(g) for g in [recall_score, precision_score, accuracy_score]]\n",
    "\n",
    "def find_scores(classifier, X, y, scorers):\n",
    "    for scorer, score_type in zip(scorers, [\"recall\", \"precision\", \"accuracy\"]):\n",
    "        print(f\"\\n\\n{score_type}\")\n",
    "        results = cross_validate(clf, X, y, scoring=scorer, cv=4)[\"test_score\"]\n",
    "        print(results)\n",
    "        print(\"avg:\", sum(results)/4)\n",
    "        print(\"var:\", np.array(results).var())\n",
    "\n",
    "# run function on non-engineered data pertaining to hernias\n",
    "find_scores(clf, X, y_hernia, scorers)"
   ]
  },
  {
   "cell_type": "code",
   "execution_count": 27,
   "metadata": {},
   "outputs": [
    {
     "name": "stdout",
     "output_type": "stream",
     "text": [
      "\n",
      "\n",
      "recall\n",
      "[0.88235294 0.88235294 0.97058824 0.96969697]\n",
      "avg: 0.9262477718360071\n",
      "var: 0.0019268554529249732\n",
      "\n",
      "\n",
      "precision\n",
      "[0.96774194 1.         0.97058824 0.96969697]\n",
      "avg: 0.9770067851187396\n",
      "var: 0.00017728913817100975\n",
      "\n",
      "\n",
      "accuracy\n",
      "[0.92857143 0.94285714 0.97142857 0.97101449]\n",
      "avg: 0.9534679089026915\n",
      "var: 0.000340722773041163\n"
     ]
    }
   ],
   "source": [
    "# find scores for non-engineered data pertaining to Spondylolisthesis\n",
    "find_scores(clf, X, y_spond, scorers)"
   ]
  },
  {
   "cell_type": "code",
   "execution_count": 28,
   "metadata": {},
   "outputs": [
    {
     "name": "stdout",
     "output_type": "stream",
     "text": [
      "\n",
      "\n",
      "recall\n",
      "[0.21428571 0.57142857 0.30769231 0.23076923]\n",
      "avg: 0.3310439560439561\n",
      "var: 0.020504392585436536\n",
      "\n",
      "\n",
      "precision\n",
      "[0.6        0.72727273 0.4        0.75      ]\n",
      "avg: 0.6193181818181818\n",
      "var: 0.019301394628099173\n",
      "\n",
      "\n",
      "accuracy\n",
      "[0.81690141 0.87142857 0.7826087  0.84057971]\n",
      "avg: 0.8278795964190944\n",
      "var: 0.0010569452950857038\n"
     ]
    }
   ],
   "source": [
    "# find scores for engineered data pertaining to hernia\n",
    "find_scores(clf, Xe, ye_hernia, scorers)"
   ]
  },
  {
   "cell_type": "code",
   "execution_count": 29,
   "metadata": {},
   "outputs": [
    {
     "name": "stdout",
     "output_type": "stream",
     "text": [
      "\n",
      "\n",
      "recall\n",
      "[0.76470588 0.73529412 0.85294118 0.93939394]\n",
      "avg: 0.8230837789661319\n",
      "var: 0.006383630262994846\n",
      "\n",
      "\n",
      "precision\n",
      "[0.86666667 0.83333333 0.80555556 0.86111111]\n",
      "avg: 0.8416666666666667\n",
      "var: 0.000594135802469136\n",
      "\n",
      "\n",
      "accuracy\n",
      "[0.82857143 0.8        0.82857143 0.89855072]\n",
      "avg: 0.8389233954451346\n",
      "var: 0.0013211938839808117\n"
     ]
    }
   ],
   "source": [
    "# find scores for engineered data pertaining to Spondylolisthesis\n",
    "find_scores(clf, Xe, ye_spond, scorers)"
   ]
  },
  {
   "cell_type": "markdown",
   "metadata": {},
   "source": [
    "Overall the non-engineered data seemed to work the best so far."
   ]
  },
  {
   "cell_type": "markdown",
   "metadata": {},
   "source": [
    "# 4.1 Hyper paramerer tuning"
   ]
  },
  {
   "cell_type": "markdown",
   "metadata": {},
   "source": [
    "Now I will tune the hyper parameters for the models. From now on I am only concerned with the non-engineered data."
   ]
  },
  {
   "cell_type": "code",
   "execution_count": 30,
   "metadata": {
    "scrolled": true
   },
   "outputs": [
    {
     "data": {
      "text/plain": [
       "GridSearchCV(cv=4, error_score='raise-deprecating',\n",
       "             estimator=LogisticRegression(C=1.0, class_weight=None, dual=False,\n",
       "                                          fit_intercept=True,\n",
       "                                          intercept_scaling=1, l1_ratio=None,\n",
       "                                          max_iter=100, multi_class='warn',\n",
       "                                          n_jobs=None, penalty='l2',\n",
       "                                          random_state=None, solver='warn',\n",
       "                                          tol=0.0001, verbose=0,\n",
       "                                          warm_start=False),\n",
       "             iid='warn', n_jobs=None, param_grid={'C': [0.01, 0.1, 1, 10, 100]},\n",
       "             pre_dispatch='2*n_jobs', refit=True, return_train_score=False,\n",
       "             scoring=None, verbose=0)"
      ]
     },
     "execution_count": 30,
     "metadata": {},
     "output_type": "execute_result"
    }
   ],
   "source": [
    "# explore parameter tuning for finding hernias\n",
    "params = {\"C\":[0.01, 0.1, 1, 10, 100]}\n",
    "gscv = GridSearchCV(clf, params, cv=4)\n",
    "gscv.fit(X, y_hernia)"
   ]
  },
  {
   "cell_type": "code",
   "execution_count": 31,
   "metadata": {},
   "outputs": [
    {
     "data": {
      "text/plain": [
       "1"
      ]
     },
     "execution_count": 31,
     "metadata": {},
     "output_type": "execute_result"
    }
   ],
   "source": [
    "gscv.best_estimator_.get_params()[\"C\"]"
   ]
  },
  {
   "cell_type": "code",
   "execution_count": 32,
   "metadata": {},
   "outputs": [
    {
     "name": "stdout",
     "output_type": "stream",
     "text": [
      "\n",
      "\n",
      "recall\n",
      "[0.71428571 0.64285714 0.53846154 0.61538462]\n",
      "avg: 0.6277472527472527\n",
      "var: 0.003960496920661758\n",
      "\n",
      "\n",
      "precision\n",
      "[0.71428571 0.9        0.63636364 0.66666667]\n",
      "avg: 0.7293290043290043\n",
      "var: 0.010481004385225166\n",
      "\n",
      "\n",
      "accuracy\n",
      "[0.88732394 0.91428571 0.85507246 0.86956522]\n",
      "avg: 0.8815618347767765\n",
      "var: 0.0004874149485120506\n"
     ]
    }
   ],
   "source": [
    "# baseline scores\n",
    "find_scores(clf, X, y_hernia, scorers)"
   ]
  },
  {
   "cell_type": "code",
   "execution_count": 33,
   "metadata": {
    "scrolled": true
   },
   "outputs": [
    {
     "name": "stdout",
     "output_type": "stream",
     "text": [
      "\n",
      "\n",
      "recall\n",
      "[0.71428571 0.64285714 0.53846154 0.61538462]\n",
      "avg: 0.6277472527472527\n",
      "var: 0.003960496920661758\n",
      "\n",
      "\n",
      "precision\n",
      "[0.71428571 0.9        0.63636364 0.66666667]\n",
      "avg: 0.7293290043290043\n",
      "var: 0.010481004385225166\n",
      "\n",
      "\n",
      "accuracy\n",
      "[0.88732394 0.91428571 0.85507246 0.86956522]\n",
      "avg: 0.8815618347767765\n",
      "var: 0.0004874149485120506\n"
     ]
    }
   ],
   "source": [
    "# after tuning\n",
    "find_scores(gscv.best_estimator_, X, y_hernia, scorers)"
   ]
  },
  {
   "cell_type": "code",
   "execution_count": 34,
   "metadata": {
    "scrolled": true
   },
   "outputs": [
    {
     "data": {
      "text/plain": [
       "GridSearchCV(cv=4, error_score='raise-deprecating',\n",
       "             estimator=LogisticRegression(C=1.0, class_weight=None, dual=False,\n",
       "                                          fit_intercept=True,\n",
       "                                          intercept_scaling=1, l1_ratio=None,\n",
       "                                          max_iter=100, multi_class='warn',\n",
       "                                          n_jobs=None, penalty='l2',\n",
       "                                          random_state=None, solver='warn',\n",
       "                                          tol=0.0001, verbose=0,\n",
       "                                          warm_start=False),\n",
       "             iid='warn', n_jobs=None, param_grid={'C': [0.01, 0.1, 1, 10, 100]},\n",
       "             pre_dispatch='2*n_jobs', refit=True, return_train_score=False,\n",
       "             scoring=None, verbose=0)"
      ]
     },
     "execution_count": 34,
     "metadata": {},
     "output_type": "execute_result"
    }
   ],
   "source": [
    "# explore parameter tuning for finding hernias\n",
    "params = {\"C\":[0.01, 0.1, 1, 10, 100]}\n",
    "gscv2 = GridSearchCV(clf, params, cv=4)\n",
    "gscv2.fit(X, y_spond)"
   ]
  },
  {
   "cell_type": "code",
   "execution_count": 35,
   "metadata": {
    "scrolled": true
   },
   "outputs": [
    {
     "data": {
      "text/plain": [
       "100"
      ]
     },
     "execution_count": 35,
     "metadata": {},
     "output_type": "execute_result"
    }
   ],
   "source": [
    "gscv2.best_estimator_.get_params()[\"C\"]"
   ]
  },
  {
   "cell_type": "code",
   "execution_count": 36,
   "metadata": {},
   "outputs": [
    {
     "name": "stdout",
     "output_type": "stream",
     "text": [
      "\n",
      "\n",
      "recall\n",
      "[0.88235294 0.88235294 0.97058824 0.96969697]\n",
      "avg: 0.9262477718360071\n",
      "var: 0.0019268554529249732\n",
      "\n",
      "\n",
      "precision\n",
      "[0.96774194 1.         0.97058824 0.96969697]\n",
      "avg: 0.9770067851187396\n",
      "var: 0.00017728913817100975\n",
      "\n",
      "\n",
      "accuracy\n",
      "[0.92857143 0.94285714 0.97142857 0.97101449]\n",
      "avg: 0.9534679089026915\n",
      "var: 0.000340722773041163\n"
     ]
    }
   ],
   "source": [
    "# baseline scores\n",
    "find_scores(clf, X, y_spond, scorers)"
   ]
  },
  {
   "cell_type": "code",
   "execution_count": 37,
   "metadata": {
    "scrolled": true
   },
   "outputs": [
    {
     "name": "stdout",
     "output_type": "stream",
     "text": [
      "\n",
      "\n",
      "recall\n",
      "[0.88235294 0.88235294 0.97058824 0.96969697]\n",
      "avg: 0.9262477718360071\n",
      "var: 0.0019268554529249732\n",
      "\n",
      "\n",
      "precision\n",
      "[0.96774194 1.         0.97058824 0.96969697]\n",
      "avg: 0.9770067851187396\n",
      "var: 0.00017728913817100975\n",
      "\n",
      "\n",
      "accuracy\n",
      "[0.92857143 0.94285714 0.97142857 0.97101449]\n",
      "avg: 0.9534679089026915\n",
      "var: 0.000340722773041163\n"
     ]
    }
   ],
   "source": [
    "# after tuning\n",
    "find_scores(gscv2.best_estimator_, X, y_spond, scorers)"
   ]
  },
  {
   "cell_type": "markdown",
   "metadata": {},
   "source": [
    "# 5.1 Feature Importance"
   ]
  },
  {
   "cell_type": "markdown",
   "metadata": {},
   "source": [
    "Here I will take a look at the coefficients of each feature."
   ]
  },
  {
   "cell_type": "code",
   "execution_count": 43,
   "metadata": {
    "scrolled": true
   },
   "outputs": [
    {
     "data": {
      "image/png": "[encoded data removed]",
      "text/plain": [
       "<Figure size 1080x360 with 1 Axes>"
      ]
     },
     "metadata": {
      "needs_background": "light"
     },
     "output_type": "display_data"
    },
    {
     "name": "stdout",
     "output_type": "stream",
     "text": [
      "\n",
      "\n",
      "\n",
      "\n"
     ]
    },
    {
     "data": {
      "image/png": "[encoded data removed]",
      "text/plain": [
       "<Figure size 1080x360 with 1 Axes>"
      ]
     },
     "metadata": {
      "needs_background": "light"
     },
     "output_type": "display_data"
    }
   ],
   "source": [
    "# save models\n",
    "model_hernia = gscv.best_estimator_\n",
    "model_spond = gscv2.best_estimator_\n",
    "\n",
    "# save coeficients\n",
    "cols = df.drop(targets, axis=1).columns\n",
    "coef_hernia = model_hernia.coef_[0]\n",
    "coef_spond = model_spond.coef_[0]\n",
    "\n",
    "# plotting\n",
    "plt.figure(figsize=(15, 5))\n",
    "plt.bar(cols, coef_hernia)\n",
    "plt.title(\"Hernia Model Coefficients\")\n",
    "plt.show()\n",
    "\n",
    "print(\"\\n\\n\\n\")\n",
    "\n",
    "plt.figure(figsize=(15, 5))\n",
    "plt.bar(cols, coef_spond)\n",
    "plt.title(\"Spond Model Coefficients\")\n",
    "plt.show()"
   ]
  },
  {
   "cell_type": "code",
   "execution_count": null,
   "metadata": {},
   "outputs": [],
   "source": []
  }
 ],
 "metadata": {
  "kernelspec": {
   "display_name": "Python 3",
   "language": "python",
   "name": "python3"
  },
  "language_info": {
   "codemirror_mode": {
    "name": "ipython",
    "version": 3
   },
   "file_extension": ".py",
   "mimetype": "text/x-python",
   "name": "python",
   "nbconvert_exporter": "python",
   "pygments_lexer": "ipython3",
   "version": "3.7.3"
  }
 },
 "nbformat": 4,
 "nbformat_minor": 2
}
