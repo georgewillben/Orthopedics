{
 "cells": [
  {
   "cell_type": "markdown",
   "metadata": {},
   "source": [
    "# Feature Engineering"
   ]
  },
  {
   "cell_type": "code",
   "execution_count": 110,
   "metadata": {},
   "outputs": [],
   "source": [
    "#import libraries\n",
    "import pandas as pd\n",
    "import numpy as np\n",
    "import matplotlib.pyplot as plt\n",
    "%matplotlib inline\n",
    "import seaborn as sns\n",
    "\n",
    "from sklearn.feature_selection import chi2, SelectKBest"
   ]
  },
  {
   "cell_type": "markdown",
   "metadata": {},
   "source": [
    "# 1.1 Load Data"
   ]
  },
  {
   "cell_type": "code",
   "execution_count": 111,
   "metadata": {},
   "outputs": [
    {
     "data": {
      "text/html": [
       "<div>\n",
       "<style scoped>\n",
       "    .dataframe tbody tr th:only-of-type {\n",
       "        vertical-align: middle;\n",
       "    }\n",
       "\n",
       "    .dataframe tbody tr th {\n",
       "        vertical-align: top;\n",
       "    }\n",
       "\n",
       "    .dataframe thead th {\n",
       "        text-align: right;\n",
       "    }\n",
       "</style>\n",
       "<table border=\"1\" class=\"dataframe\">\n",
       "  <thead>\n",
       "    <tr style=\"text-align: right;\">\n",
       "      <th></th>\n",
       "      <th>pelvic_incidence</th>\n",
       "      <th>pelvic_tilt</th>\n",
       "      <th>lumbar_lordosis_angle</th>\n",
       "      <th>sacral_slope</th>\n",
       "      <th>pelvic_radius</th>\n",
       "      <th>degree_spondylolisthesis</th>\n",
       "      <th>class</th>\n",
       "    </tr>\n",
       "  </thead>\n",
       "  <tbody>\n",
       "    <tr>\n",
       "      <th>0</th>\n",
       "      <td>80.111572</td>\n",
       "      <td>33.942432</td>\n",
       "      <td>85.101608</td>\n",
       "      <td>46.169139</td>\n",
       "      <td>125.593624</td>\n",
       "      <td>100.292107</td>\n",
       "      <td>Spondylolisthesis</td>\n",
       "    </tr>\n",
       "    <tr>\n",
       "      <th>1</th>\n",
       "      <td>63.404481</td>\n",
       "      <td>14.115327</td>\n",
       "      <td>48.136806</td>\n",
       "      <td>49.289153</td>\n",
       "      <td>111.916008</td>\n",
       "      <td>31.784495</td>\n",
       "      <td>Spondylolisthesis</td>\n",
       "    </tr>\n",
       "    <tr>\n",
       "      <th>2</th>\n",
       "      <td>52.419385</td>\n",
       "      <td>19.011561</td>\n",
       "      <td>35.872660</td>\n",
       "      <td>33.407825</td>\n",
       "      <td>116.559771</td>\n",
       "      <td>1.694705</td>\n",
       "      <td>Hernia</td>\n",
       "    </tr>\n",
       "    <tr>\n",
       "      <th>3</th>\n",
       "      <td>91.468741</td>\n",
       "      <td>24.508177</td>\n",
       "      <td>84.620272</td>\n",
       "      <td>66.960564</td>\n",
       "      <td>117.307897</td>\n",
       "      <td>52.623047</td>\n",
       "      <td>Spondylolisthesis</td>\n",
       "    </tr>\n",
       "    <tr>\n",
       "      <th>4</th>\n",
       "      <td>44.362490</td>\n",
       "      <td>8.945435</td>\n",
       "      <td>46.902096</td>\n",
       "      <td>35.417055</td>\n",
       "      <td>129.220682</td>\n",
       "      <td>4.994195</td>\n",
       "      <td>Normal</td>\n",
       "    </tr>\n",
       "  </tbody>\n",
       "</table>\n",
       "</div>"
      ],
      "text/plain": [
       "   pelvic_incidence  pelvic_tilt  lumbar_lordosis_angle  sacral_slope  \\\n",
       "0         80.111572    33.942432              85.101608     46.169139   \n",
       "1         63.404481    14.115327              48.136806     49.289153   \n",
       "2         52.419385    19.011561              35.872660     33.407825   \n",
       "3         91.468741    24.508177              84.620272     66.960564   \n",
       "4         44.362490     8.945435              46.902096     35.417055   \n",
       "\n",
       "   pelvic_radius  degree_spondylolisthesis              class  \n",
       "0     125.593624                100.292107  Spondylolisthesis  \n",
       "1     111.916008                 31.784495  Spondylolisthesis  \n",
       "2     116.559771                  1.694705             Hernia  \n",
       "3     117.307897                 52.623047  Spondylolisthesis  \n",
       "4     129.220682                  4.994195             Normal  "
      ]
     },
     "execution_count": 111,
     "metadata": {},
     "output_type": "execute_result"
    }
   ],
   "source": [
    "train = pd.read_csv(\"train.csv\")\n",
    "test = pd.read_csv(\"test.csv\")\n",
    "\n",
    "train.head()"
   ]
  },
  {
   "cell_type": "markdown",
   "metadata": {},
   "source": [
    "# 1.2 One Hot Encode Targets"
   ]
  },
  {
   "cell_type": "code",
   "execution_count": 112,
   "metadata": {},
   "outputs": [
    {
     "data": {
      "text/html": [
       "<div>\n",
       "<style scoped>\n",
       "    .dataframe tbody tr th:only-of-type {\n",
       "        vertical-align: middle;\n",
       "    }\n",
       "\n",
       "    .dataframe tbody tr th {\n",
       "        vertical-align: top;\n",
       "    }\n",
       "\n",
       "    .dataframe thead th {\n",
       "        text-align: right;\n",
       "    }\n",
       "</style>\n",
       "<table border=\"1\" class=\"dataframe\">\n",
       "  <thead>\n",
       "    <tr style=\"text-align: right;\">\n",
       "      <th></th>\n",
       "      <th>pelvic_incidence</th>\n",
       "      <th>pelvic_tilt</th>\n",
       "      <th>lumbar_lordosis_angle</th>\n",
       "      <th>sacral_slope</th>\n",
       "      <th>pelvic_radius</th>\n",
       "      <th>degree_spondylolisthesis</th>\n",
       "      <th>class__Hernia</th>\n",
       "      <th>class__Normal</th>\n",
       "      <th>class__Spondylolisthesis</th>\n",
       "    </tr>\n",
       "  </thead>\n",
       "  <tbody>\n",
       "    <tr>\n",
       "      <th>0</th>\n",
       "      <td>80.111572</td>\n",
       "      <td>33.942432</td>\n",
       "      <td>85.101608</td>\n",
       "      <td>46.169139</td>\n",
       "      <td>125.593624</td>\n",
       "      <td>100.292107</td>\n",
       "      <td>0</td>\n",
       "      <td>0</td>\n",
       "      <td>1</td>\n",
       "    </tr>\n",
       "    <tr>\n",
       "      <th>1</th>\n",
       "      <td>63.404481</td>\n",
       "      <td>14.115327</td>\n",
       "      <td>48.136806</td>\n",
       "      <td>49.289153</td>\n",
       "      <td>111.916008</td>\n",
       "      <td>31.784495</td>\n",
       "      <td>0</td>\n",
       "      <td>0</td>\n",
       "      <td>1</td>\n",
       "    </tr>\n",
       "    <tr>\n",
       "      <th>2</th>\n",
       "      <td>52.419385</td>\n",
       "      <td>19.011561</td>\n",
       "      <td>35.872660</td>\n",
       "      <td>33.407825</td>\n",
       "      <td>116.559771</td>\n",
       "      <td>1.694705</td>\n",
       "      <td>1</td>\n",
       "      <td>0</td>\n",
       "      <td>0</td>\n",
       "    </tr>\n",
       "    <tr>\n",
       "      <th>3</th>\n",
       "      <td>91.468741</td>\n",
       "      <td>24.508177</td>\n",
       "      <td>84.620272</td>\n",
       "      <td>66.960564</td>\n",
       "      <td>117.307897</td>\n",
       "      <td>52.623047</td>\n",
       "      <td>0</td>\n",
       "      <td>0</td>\n",
       "      <td>1</td>\n",
       "    </tr>\n",
       "    <tr>\n",
       "      <th>4</th>\n",
       "      <td>44.362490</td>\n",
       "      <td>8.945435</td>\n",
       "      <td>46.902096</td>\n",
       "      <td>35.417055</td>\n",
       "      <td>129.220682</td>\n",
       "      <td>4.994195</td>\n",
       "      <td>0</td>\n",
       "      <td>1</td>\n",
       "      <td>0</td>\n",
       "    </tr>\n",
       "  </tbody>\n",
       "</table>\n",
       "</div>"
      ],
      "text/plain": [
       "   pelvic_incidence  pelvic_tilt  lumbar_lordosis_angle  sacral_slope  \\\n",
       "0         80.111572    33.942432              85.101608     46.169139   \n",
       "1         63.404481    14.115327              48.136806     49.289153   \n",
       "2         52.419385    19.011561              35.872660     33.407825   \n",
       "3         91.468741    24.508177              84.620272     66.960564   \n",
       "4         44.362490     8.945435              46.902096     35.417055   \n",
       "\n",
       "   pelvic_radius  degree_spondylolisthesis  class__Hernia  class__Normal  \\\n",
       "0     125.593624                100.292107              0              0   \n",
       "1     111.916008                 31.784495              0              0   \n",
       "2     116.559771                  1.694705              1              0   \n",
       "3     117.307897                 52.623047              0              0   \n",
       "4     129.220682                  4.994195              0              1   \n",
       "\n",
       "   class__Spondylolisthesis  \n",
       "0                         1  \n",
       "1                         1  \n",
       "2                         0  \n",
       "3                         1  \n",
       "4                         0  "
      ]
     },
     "execution_count": 112,
     "metadata": {},
     "output_type": "execute_result"
    }
   ],
   "source": [
    "# function to one hot encode\n",
    "def ohe(df):\n",
    "    encoded = pd.get_dummies(df[\"class\"], prefix=\"class_\")\n",
    "\n",
    "    df = pd.concat([df.drop(\"class\", axis=1), encoded], axis=1)\n",
    "\n",
    "    return df\n",
    "\n",
    "train = ohe(train)\n",
    "train.head()"
   ]
  },
  {
   "cell_type": "code",
   "execution_count": 113,
   "metadata": {},
   "outputs": [],
   "source": [
    "test = ohe(test)"
   ]
  },
  {
   "cell_type": "markdown",
   "metadata": {},
   "source": [
    "# 1.3 Log Transform degree_spondylolisthesis"
   ]
  },
  {
   "cell_type": "code",
   "execution_count": 114,
   "metadata": {},
   "outputs": [
    {
     "data": {
      "text/html": [
       "<div>\n",
       "<style scoped>\n",
       "    .dataframe tbody tr th:only-of-type {\n",
       "        vertical-align: middle;\n",
       "    }\n",
       "\n",
       "    .dataframe tbody tr th {\n",
       "        vertical-align: top;\n",
       "    }\n",
       "\n",
       "    .dataframe thead th {\n",
       "        text-align: right;\n",
       "    }\n",
       "</style>\n",
       "<table border=\"1\" class=\"dataframe\">\n",
       "  <thead>\n",
       "    <tr style=\"text-align: right;\">\n",
       "      <th></th>\n",
       "      <th>pelvic_incidence</th>\n",
       "      <th>pelvic_tilt</th>\n",
       "      <th>lumbar_lordosis_angle</th>\n",
       "      <th>sacral_slope</th>\n",
       "      <th>pelvic_radius</th>\n",
       "      <th>degree_spondylolisthesis</th>\n",
       "      <th>class__Hernia</th>\n",
       "      <th>class__Normal</th>\n",
       "      <th>class__Spondylolisthesis</th>\n",
       "      <th>log_spondy</th>\n",
       "    </tr>\n",
       "  </thead>\n",
       "  <tbody>\n",
       "    <tr>\n",
       "      <th>0</th>\n",
       "      <td>80.111572</td>\n",
       "      <td>33.942432</td>\n",
       "      <td>85.101608</td>\n",
       "      <td>46.169139</td>\n",
       "      <td>125.593624</td>\n",
       "      <td>122.408464</td>\n",
       "      <td>0</td>\n",
       "      <td>0</td>\n",
       "      <td>1</td>\n",
       "      <td>4.807364</td>\n",
       "    </tr>\n",
       "    <tr>\n",
       "      <th>1</th>\n",
       "      <td>63.404481</td>\n",
       "      <td>14.115327</td>\n",
       "      <td>48.136806</td>\n",
       "      <td>49.289153</td>\n",
       "      <td>111.916008</td>\n",
       "      <td>53.900852</td>\n",
       "      <td>0</td>\n",
       "      <td>0</td>\n",
       "      <td>1</td>\n",
       "      <td>3.987146</td>\n",
       "    </tr>\n",
       "    <tr>\n",
       "      <th>2</th>\n",
       "      <td>52.419385</td>\n",
       "      <td>19.011561</td>\n",
       "      <td>35.872660</td>\n",
       "      <td>33.407825</td>\n",
       "      <td>116.559771</td>\n",
       "      <td>23.811062</td>\n",
       "      <td>1</td>\n",
       "      <td>0</td>\n",
       "      <td>0</td>\n",
       "      <td>3.170150</td>\n",
       "    </tr>\n",
       "    <tr>\n",
       "      <th>3</th>\n",
       "      <td>91.468741</td>\n",
       "      <td>24.508177</td>\n",
       "      <td>84.620272</td>\n",
       "      <td>66.960564</td>\n",
       "      <td>117.307897</td>\n",
       "      <td>74.739404</td>\n",
       "      <td>0</td>\n",
       "      <td>0</td>\n",
       "      <td>1</td>\n",
       "      <td>4.314007</td>\n",
       "    </tr>\n",
       "    <tr>\n",
       "      <th>4</th>\n",
       "      <td>44.362490</td>\n",
       "      <td>8.945435</td>\n",
       "      <td>46.902096</td>\n",
       "      <td>35.417055</td>\n",
       "      <td>129.220682</td>\n",
       "      <td>27.110553</td>\n",
       "      <td>0</td>\n",
       "      <td>1</td>\n",
       "      <td>0</td>\n",
       "      <td>3.299923</td>\n",
       "    </tr>\n",
       "  </tbody>\n",
       "</table>\n",
       "</div>"
      ],
      "text/plain": [
       "   pelvic_incidence  pelvic_tilt  lumbar_lordosis_angle  sacral_slope  \\\n",
       "0         80.111572    33.942432              85.101608     46.169139   \n",
       "1         63.404481    14.115327              48.136806     49.289153   \n",
       "2         52.419385    19.011561              35.872660     33.407825   \n",
       "3         91.468741    24.508177              84.620272     66.960564   \n",
       "4         44.362490     8.945435              46.902096     35.417055   \n",
       "\n",
       "   pelvic_radius  degree_spondylolisthesis  class__Hernia  class__Normal  \\\n",
       "0     125.593624                122.408464              0              0   \n",
       "1     111.916008                 53.900852              0              0   \n",
       "2     116.559771                 23.811062              1              0   \n",
       "3     117.307897                 74.739404              0              0   \n",
       "4     129.220682                 27.110553              0              1   \n",
       "\n",
       "   class__Spondylolisthesis  log_spondy  \n",
       "0                         1    4.807364  \n",
       "1                         1    3.987146  \n",
       "2                         0    3.170150  \n",
       "3                         1    4.314007  \n",
       "4                         0    3.299923  "
      ]
     },
     "execution_count": 114,
     "metadata": {},
     "output_type": "execute_result"
    }
   ],
   "source": [
    "def log_trans_spondy(df):\n",
    "    df.degree_spondylolisthesis = df.degree_spondylolisthesis + abs(train.degree_spondylolisthesis.min())*2\n",
    "    log_trans = np.log(df.degree_spondylolisthesis)\n",
    "    df[\"log_spondy\"] = log_trans\n",
    "    \n",
    "    return df\n",
    "\n",
    "train = log_trans_spondy(train)\n",
    "train.head()"
   ]
  },
  {
   "cell_type": "code",
   "execution_count": 115,
   "metadata": {
    "scrolled": true
   },
   "outputs": [],
   "source": [
    "test = log_trans_spondy(test)"
   ]
  },
  {
   "cell_type": "markdown",
   "metadata": {},
   "source": [
    "# 2.1 Re-examine multicolinearity"
   ]
  },
  {
   "cell_type": "code",
   "execution_count": 116,
   "metadata": {},
   "outputs": [
    {
     "data": {
      "image/png": "[encoded data removed]",
      "text/plain": [
       "<Figure size 1080x1080 with 2 Axes>"
      ]
     },
     "metadata": {
      "needs_background": "light"
     },
     "output_type": "display_data"
    }
   ],
   "source": [
    "# plot multicolinearity heatmap\n",
    "plt.figure(figsize=(15, 15))\n",
    "sns.heatmap(abs(train.corr()), annot=True)\n",
    "plt.title(\"multicolinearity\")\n",
    "plt.show()"
   ]
  },
  {
   "cell_type": "code",
   "execution_count": 117,
   "metadata": {},
   "outputs": [
    {
     "data": {
      "text/html": [
       "<div>\n",
       "<style scoped>\n",
       "    .dataframe tbody tr th:only-of-type {\n",
       "        vertical-align: middle;\n",
       "    }\n",
       "\n",
       "    .dataframe tbody tr th {\n",
       "        vertical-align: top;\n",
       "    }\n",
       "\n",
       "    .dataframe thead th {\n",
       "        text-align: right;\n",
       "    }\n",
       "</style>\n",
       "<table border=\"1\" class=\"dataframe\">\n",
       "  <thead>\n",
       "    <tr style=\"text-align: right;\">\n",
       "      <th></th>\n",
       "      <th>pelvic_incidence</th>\n",
       "      <th>pelvic_tilt</th>\n",
       "      <th>lumbar_lordosis_angle</th>\n",
       "      <th>sacral_slope</th>\n",
       "      <th>pelvic_radius</th>\n",
       "      <th>degree_spondylolisthesis</th>\n",
       "      <th>class__Hernia</th>\n",
       "      <th>class__Normal</th>\n",
       "      <th>class__Spondylolisthesis</th>\n",
       "      <th>log_spondy</th>\n",
       "    </tr>\n",
       "  </thead>\n",
       "  <tbody>\n",
       "    <tr>\n",
       "      <th>pelvic_incidence</th>\n",
       "      <td>True</td>\n",
       "      <td>True</td>\n",
       "      <td>True</td>\n",
       "      <td>True</td>\n",
       "      <td>False</td>\n",
       "      <td>True</td>\n",
       "      <td>False</td>\n",
       "      <td>False</td>\n",
       "      <td>True</td>\n",
       "      <td>True</td>\n",
       "    </tr>\n",
       "    <tr>\n",
       "      <th>pelvic_tilt</th>\n",
       "      <td>True</td>\n",
       "      <td>True</td>\n",
       "      <td>False</td>\n",
       "      <td>False</td>\n",
       "      <td>False</td>\n",
       "      <td>False</td>\n",
       "      <td>False</td>\n",
       "      <td>False</td>\n",
       "      <td>False</td>\n",
       "      <td>False</td>\n",
       "    </tr>\n",
       "    <tr>\n",
       "      <th>lumbar_lordosis_angle</th>\n",
       "      <td>True</td>\n",
       "      <td>False</td>\n",
       "      <td>True</td>\n",
       "      <td>False</td>\n",
       "      <td>False</td>\n",
       "      <td>False</td>\n",
       "      <td>False</td>\n",
       "      <td>False</td>\n",
       "      <td>True</td>\n",
       "      <td>True</td>\n",
       "    </tr>\n",
       "    <tr>\n",
       "      <th>sacral_slope</th>\n",
       "      <td>True</td>\n",
       "      <td>False</td>\n",
       "      <td>False</td>\n",
       "      <td>True</td>\n",
       "      <td>False</td>\n",
       "      <td>False</td>\n",
       "      <td>False</td>\n",
       "      <td>False</td>\n",
       "      <td>False</td>\n",
       "      <td>False</td>\n",
       "    </tr>\n",
       "    <tr>\n",
       "      <th>pelvic_radius</th>\n",
       "      <td>False</td>\n",
       "      <td>False</td>\n",
       "      <td>False</td>\n",
       "      <td>False</td>\n",
       "      <td>True</td>\n",
       "      <td>False</td>\n",
       "      <td>False</td>\n",
       "      <td>False</td>\n",
       "      <td>False</td>\n",
       "      <td>False</td>\n",
       "    </tr>\n",
       "    <tr>\n",
       "      <th>degree_spondylolisthesis</th>\n",
       "      <td>True</td>\n",
       "      <td>False</td>\n",
       "      <td>False</td>\n",
       "      <td>False</td>\n",
       "      <td>False</td>\n",
       "      <td>True</td>\n",
       "      <td>False</td>\n",
       "      <td>False</td>\n",
       "      <td>True</td>\n",
       "      <td>True</td>\n",
       "    </tr>\n",
       "    <tr>\n",
       "      <th>class__Hernia</th>\n",
       "      <td>False</td>\n",
       "      <td>False</td>\n",
       "      <td>False</td>\n",
       "      <td>False</td>\n",
       "      <td>False</td>\n",
       "      <td>False</td>\n",
       "      <td>True</td>\n",
       "      <td>False</td>\n",
       "      <td>False</td>\n",
       "      <td>False</td>\n",
       "    </tr>\n",
       "    <tr>\n",
       "      <th>class__Normal</th>\n",
       "      <td>False</td>\n",
       "      <td>False</td>\n",
       "      <td>False</td>\n",
       "      <td>False</td>\n",
       "      <td>False</td>\n",
       "      <td>False</td>\n",
       "      <td>False</td>\n",
       "      <td>True</td>\n",
       "      <td>True</td>\n",
       "      <td>False</td>\n",
       "    </tr>\n",
       "    <tr>\n",
       "      <th>class__Spondylolisthesis</th>\n",
       "      <td>True</td>\n",
       "      <td>False</td>\n",
       "      <td>True</td>\n",
       "      <td>False</td>\n",
       "      <td>False</td>\n",
       "      <td>True</td>\n",
       "      <td>False</td>\n",
       "      <td>True</td>\n",
       "      <td>True</td>\n",
       "      <td>True</td>\n",
       "    </tr>\n",
       "    <tr>\n",
       "      <th>log_spondy</th>\n",
       "      <td>True</td>\n",
       "      <td>False</td>\n",
       "      <td>True</td>\n",
       "      <td>False</td>\n",
       "      <td>False</td>\n",
       "      <td>True</td>\n",
       "      <td>False</td>\n",
       "      <td>False</td>\n",
       "      <td>True</td>\n",
       "      <td>True</td>\n",
       "    </tr>\n",
       "  </tbody>\n",
       "</table>\n",
       "</div>"
      ],
      "text/plain": [
       "                          pelvic_incidence  pelvic_tilt  \\\n",
       "pelvic_incidence                      True         True   \n",
       "pelvic_tilt                           True         True   \n",
       "lumbar_lordosis_angle                 True        False   \n",
       "sacral_slope                          True        False   \n",
       "pelvic_radius                        False        False   \n",
       "degree_spondylolisthesis              True        False   \n",
       "class__Hernia                        False        False   \n",
       "class__Normal                        False        False   \n",
       "class__Spondylolisthesis              True        False   \n",
       "log_spondy                            True        False   \n",
       "\n",
       "                          lumbar_lordosis_angle  sacral_slope  pelvic_radius  \\\n",
       "pelvic_incidence                           True          True          False   \n",
       "pelvic_tilt                               False         False          False   \n",
       "lumbar_lordosis_angle                      True         False          False   \n",
       "sacral_slope                              False          True          False   \n",
       "pelvic_radius                             False         False           True   \n",
       "degree_spondylolisthesis                  False         False          False   \n",
       "class__Hernia                             False         False          False   \n",
       "class__Normal                             False         False          False   \n",
       "class__Spondylolisthesis                   True         False          False   \n",
       "log_spondy                                 True         False          False   \n",
       "\n",
       "                          degree_spondylolisthesis  class__Hernia  \\\n",
       "pelvic_incidence                              True          False   \n",
       "pelvic_tilt                                  False          False   \n",
       "lumbar_lordosis_angle                        False          False   \n",
       "sacral_slope                                 False          False   \n",
       "pelvic_radius                                False          False   \n",
       "degree_spondylolisthesis                      True          False   \n",
       "class__Hernia                                False           True   \n",
       "class__Normal                                False          False   \n",
       "class__Spondylolisthesis                      True          False   \n",
       "log_spondy                                    True          False   \n",
       "\n",
       "                          class__Normal  class__Spondylolisthesis  log_spondy  \n",
       "pelvic_incidence                  False                      True        True  \n",
       "pelvic_tilt                       False                     False       False  \n",
       "lumbar_lordosis_angle             False                      True        True  \n",
       "sacral_slope                      False                     False       False  \n",
       "pelvic_radius                     False                     False       False  \n",
       "degree_spondylolisthesis          False                      True        True  \n",
       "class__Hernia                     False                     False       False  \n",
       "class__Normal                      True                      True       False  \n",
       "class__Spondylolisthesis           True                      True        True  \n",
       "log_spondy                        False                      True        True  "
      ]
     },
     "execution_count": 117,
     "metadata": {},
     "output_type": "execute_result"
    }
   ],
   "source": [
    "#see which variables have an absolute correlation over 0.60\n",
    "corr_df = abs(train.corr()) > 0.60\n",
    "corr_df"
   ]
  },
  {
   "cell_type": "code",
   "execution_count": 118,
   "metadata": {},
   "outputs": [
    {
     "data": {
      "text/plain": [
       "pelvic_incidence            7\n",
       "pelvic_tilt                 2\n",
       "lumbar_lordosis_angle       4\n",
       "sacral_slope                2\n",
       "pelvic_radius               1\n",
       "degree_spondylolisthesis    4\n",
       "class__Hernia               1\n",
       "class__Normal               2\n",
       "class__Spondylolisthesis    6\n",
       "log_spondy                  5\n",
       "dtype: int64"
      ]
     },
     "execution_count": 118,
     "metadata": {},
     "output_type": "execute_result"
    }
   ],
   "source": [
    "# sum up each column\n",
    "corr_df.sum()"
   ]
  },
  {
   "cell_type": "markdown",
   "metadata": {},
   "source": [
    "# 2.2 Put the features into groups based on multi-colinearity"
   ]
  },
  {
   "cell_type": "markdown",
   "metadata": {},
   "source": [
    "Now I will group the features based on multicolinearity. I will remove the target variables in the process."
   ]
  },
  {
   "cell_type": "code",
   "execution_count": 119,
   "metadata": {},
   "outputs": [],
   "source": [
    "# save target variables in a list\n",
    "targets = [col for col in train.columns if col.startswith(\"class_\")]"
   ]
  },
  {
   "cell_type": "code",
   "execution_count": 120,
   "metadata": {},
   "outputs": [
    {
     "data": {
      "text/plain": [
       "Index(['pelvic_incidence', 'pelvic_tilt', 'lumbar_lordosis_angle',\n",
       "       'sacral_slope', 'pelvic_radius', 'degree_spondylolisthesis',\n",
       "       'log_spondy'],\n",
       "      dtype='object')"
      ]
     },
     "execution_count": 120,
     "metadata": {},
     "output_type": "execute_result"
    }
   ],
   "source": [
    "# remove target variables\n",
    "feats = train.drop(targets, axis=1)\n",
    "feats.columns"
   ]
  },
  {
   "cell_type": "code",
   "execution_count": 121,
   "metadata": {},
   "outputs": [
    {
     "name": "stdout",
     "output_type": "stream",
     "text": [
      "\n",
      "\n",
      " ['degree_spondylolisthesis', 'log_spondy', 'lumbar_lordosis_angle', 'pelvic_incidence'] \n",
      "\n",
      "\n",
      "\n",
      "\n",
      " ['degree_spondylolisthesis', 'log_spondy', 'lumbar_lordosis_angle', 'pelvic_incidence', 'pelvic_tilt', 'sacral_slope'] \n",
      "\n",
      "\n",
      "\n",
      "\n",
      " ['degree_spondylolisthesis', 'log_spondy', 'pelvic_incidence'] \n",
      "\n",
      "\n",
      "\n",
      "\n",
      " ['log_spondy', 'lumbar_lordosis_angle', 'pelvic_incidence'] \n",
      "\n",
      "\n",
      "\n",
      "\n",
      " ['pelvic_incidence', 'pelvic_tilt'] \n",
      "\n",
      "\n",
      "\n",
      "\n",
      " ['pelvic_incidence', 'sacral_slope'] \n",
      "\n",
      "\n",
      "\n",
      "\n",
      " ['pelvic_radius'] \n",
      "\n",
      "\n"
     ]
    }
   ],
   "source": [
    "# get the groups\n",
    "\n",
    "# find correlations of features\n",
    "feat_corr = abs(feats.corr()) > 0.60\n",
    "\n",
    "# create a variable to store groups\n",
    "groups = []\n",
    "\n",
    "# iterate over each row of the feature correlation dataframe\n",
    "for row in feat_corr.index:\n",
    "    \n",
    "    # create a group for each row\n",
    "    row_group = []\n",
    "    \n",
    "    # iterate over columns of feature correlation dataframe\n",
    "    for col in feat_corr.columns:\n",
    "        \n",
    "        # if value is true add column to the row's group\n",
    "        if feat_corr.loc[row, col]:\n",
    "            \n",
    "            row_group.append(col)\n",
    "            \n",
    "    # sort row group and append it to groups\n",
    "    groups.append(sorted(row_group))\n",
    "    \n",
    "# print groups sorted\n",
    "for group in sorted(groups):\n",
    "    print(\"\\n\\n\", group, \"\\n\\n\")"
   ]
  },
  {
   "cell_type": "markdown",
   "metadata": {},
   "source": [
    "It seems the second group contains all the features except pelvic radius so I will examine that group and lower it down to the best feature."
   ]
  },
  {
   "cell_type": "code",
   "execution_count": 122,
   "metadata": {},
   "outputs": [
    {
     "data": {
      "text/plain": [
       "['degree_spondylolisthesis',\n",
       " 'log_spondy',\n",
       " 'lumbar_lordosis_angle',\n",
       " 'pelvic_incidence',\n",
       " 'pelvic_tilt',\n",
       " 'sacral_slope']"
      ]
     },
     "execution_count": 122,
     "metadata": {},
     "output_type": "execute_result"
    }
   ],
   "source": [
    "group_of_interest = sorted(groups)[1]\n",
    "group_of_interest"
   ]
  },
  {
   "cell_type": "markdown",
   "metadata": {},
   "source": [
    "# 3.1 Chi2 Test"
   ]
  },
  {
   "cell_type": "markdown",
   "metadata": {},
   "source": [
    " Now I will perform a Chi2 test to see which features have more of a relationship to the targets."
   ]
  },
  {
   "cell_type": "code",
   "execution_count": 123,
   "metadata": {
    "scrolled": true
   },
   "outputs": [
    {
     "name": "stdout",
     "output_type": "stream",
     "text": [
      "[['pelvic_incidence', 26.14792141], ['pelvic_tilt', -6.554948347000001], ['lumbar_lordosis_angle', 14.0], ['sacral_slope', 13.3669307], ['pelvic_radius', 70.08257486], ['degree_spondylolisthesis', 11.05817866], ['log_spondy', 2.4031703044139094]]\n"
     ]
    }
   ],
   "source": [
    "# make sure there are no negative values\n",
    "print([[col, feats[col].min()] for col in feats.columns])"
   ]
  },
  {
   "cell_type": "code",
   "execution_count": 124,
   "metadata": {},
   "outputs": [],
   "source": [
    "# change pelvic tilt so it becomes positive\n",
    "feats.pelvic_tilt = feats.pelvic_tilt + 7"
   ]
  },
  {
   "cell_type": "code",
   "execution_count": 125,
   "metadata": {},
   "outputs": [
    {
     "data": {
      "image/png": "[encoded data removed]",
      "text/plain": [
       "<Figure size 1080x360 with 1 Axes>"
      ]
     },
     "metadata": {
      "needs_background": "light"
     },
     "output_type": "display_data"
    },
    {
     "name": "stdout",
     "output_type": "stream",
     "text": [
      "\n",
      "\n",
      "\n"
     ]
    },
    {
     "data": {
      "image/png": "[encoded data removed]",
      "text/plain": [
       "<Figure size 1080x360 with 1 Axes>"
      ]
     },
     "metadata": {
      "needs_background": "light"
     },
     "output_type": "display_data"
    },
    {
     "name": "stdout",
     "output_type": "stream",
     "text": [
      "\n",
      "\n",
      "\n"
     ]
    },
    {
     "data": {
      "image/png": "[encoded data removed]",
      "text/plain": [
       "<Figure size 1080x360 with 1 Axes>"
      ]
     },
     "metadata": {
      "needs_background": "light"
     },
     "output_type": "display_data"
    },
    {
     "name": "stdout",
     "output_type": "stream",
     "text": [
      "\n",
      "\n",
      "\n"
     ]
    }
   ],
   "source": [
    "# plot chi2 test for each of the target variables\n",
    "\n",
    "for target in targets:\n",
    "    plt.figure(figsize=(15, 5))\n",
    "    results = chi2(feats, train[target])[1]\n",
    "    plt.bar(feats.columns, results)\n",
    "    plt.title(f\"chi2 test for {target}\")\n",
    "    plt.axhline(0.05, color=\"red\")\n",
    "    plt.show()\n",
    "    print(\"\\n\\n\")"
   ]
  },
  {
   "cell_type": "markdown",
   "metadata": {},
   "source": [
    "In the hernia chart Pelvic Tilt and Pelvic Radius failed to show any relationship, but in the other charts they did show a relationship. Pelvic tilt can be removed to get rid of multicolinearity. Pelvic radius is not correlated with any other feature so it should not be removed."
   ]
  },
  {
   "cell_type": "code",
   "execution_count": 126,
   "metadata": {},
   "outputs": [
    {
     "data": {
      "text/plain": [
       "Index(['pelvic_incidence', 'lumbar_lordosis_angle', 'sacral_slope',\n",
       "       'pelvic_radius', 'degree_spondylolisthesis', 'class__Hernia',\n",
       "       'class__Normal', 'class__Spondylolisthesis', 'log_spondy'],\n",
       "      dtype='object')"
      ]
     },
     "execution_count": 126,
     "metadata": {},
     "output_type": "execute_result"
    }
   ],
   "source": [
    "# remove pelvic tilt\n",
    "for df in [train, test, feats]:\n",
    "    df.drop(\"pelvic_tilt\", axis=1, inplace=True)\n",
    "\n",
    "train.columns"
   ]
  },
  {
   "cell_type": "markdown",
   "metadata": {},
   "source": [
    "# 3.2 Correlation"
   ]
  },
  {
   "cell_type": "markdown",
   "metadata": {},
   "source": [
    "Now I will choose the best column in our group of multicolinear features by checking each features correlation with the target variables."
   ]
  },
  {
   "cell_type": "code",
   "execution_count": 127,
   "metadata": {},
   "outputs": [
    {
     "data": {
      "text/html": [
       "<div>\n",
       "<style scoped>\n",
       "    .dataframe tbody tr th:only-of-type {\n",
       "        vertical-align: middle;\n",
       "    }\n",
       "\n",
       "    .dataframe tbody tr th {\n",
       "        vertical-align: top;\n",
       "    }\n",
       "\n",
       "    .dataframe thead th {\n",
       "        text-align: right;\n",
       "    }\n",
       "</style>\n",
       "<table border=\"1\" class=\"dataframe\">\n",
       "  <thead>\n",
       "    <tr style=\"text-align: right;\">\n",
       "      <th></th>\n",
       "      <th>class__Hernia</th>\n",
       "      <th>class__Normal</th>\n",
       "      <th>class__Spondylolisthesis</th>\n",
       "      <th>feat</th>\n",
       "      <th>sum</th>\n",
       "    </tr>\n",
       "  </thead>\n",
       "  <tbody>\n",
       "    <tr>\n",
       "      <th>0</th>\n",
       "      <td>0.361122</td>\n",
       "      <td>0.370776</td>\n",
       "      <td>0.632321</td>\n",
       "      <td>pelvic_incidence</td>\n",
       "      <td>1.364218</td>\n",
       "    </tr>\n",
       "    <tr>\n",
       "      <th>1</th>\n",
       "      <td>0.437686</td>\n",
       "      <td>0.327547</td>\n",
       "      <td>0.652413</td>\n",
       "      <td>lumbar_lordosis_angle</td>\n",
       "      <td>1.417645</td>\n",
       "    </tr>\n",
       "    <tr>\n",
       "      <th>2</th>\n",
       "      <td>0.457951</td>\n",
       "      <td>0.217940</td>\n",
       "      <td>0.565907</td>\n",
       "      <td>sacral_slope</td>\n",
       "      <td>1.241799</td>\n",
       "    </tr>\n",
       "    <tr>\n",
       "      <th>3</th>\n",
       "      <td>0.063430</td>\n",
       "      <td>0.296212</td>\n",
       "      <td>0.226935</td>\n",
       "      <td>pelvic_radius</td>\n",
       "      <td>0.586576</td>\n",
       "    </tr>\n",
       "    <tr>\n",
       "      <th>4</th>\n",
       "      <td>0.311243</td>\n",
       "      <td>0.440619</td>\n",
       "      <td>0.658221</td>\n",
       "      <td>degree_spondylolisthesis</td>\n",
       "      <td>1.410083</td>\n",
       "    </tr>\n",
       "    <tr>\n",
       "      <th>5</th>\n",
       "      <td>0.402793</td>\n",
       "      <td>0.575639</td>\n",
       "      <td>0.856897</td>\n",
       "      <td>log_spondy</td>\n",
       "      <td>1.835330</td>\n",
       "    </tr>\n",
       "  </tbody>\n",
       "</table>\n",
       "</div>"
      ],
      "text/plain": [
       "   class__Hernia  class__Normal  class__Spondylolisthesis  \\\n",
       "0       0.361122       0.370776                  0.632321   \n",
       "1       0.437686       0.327547                  0.652413   \n",
       "2       0.457951       0.217940                  0.565907   \n",
       "3       0.063430       0.296212                  0.226935   \n",
       "4       0.311243       0.440619                  0.658221   \n",
       "5       0.402793       0.575639                  0.856897   \n",
       "\n",
       "                       feat       sum  \n",
       "0          pelvic_incidence  1.364218  \n",
       "1     lumbar_lordosis_angle  1.417645  \n",
       "2              sacral_slope  1.241799  \n",
       "3             pelvic_radius  0.586576  \n",
       "4  degree_spondylolisthesis  1.410083  \n",
       "5                log_spondy  1.835330  "
      ]
     },
     "execution_count": 127,
     "metadata": {},
     "output_type": "execute_result"
    }
   ],
   "source": [
    "# create a dataframe for each features correlations to target variables\n",
    "corr_df = abs(train.corr())\n",
    "target_corr_df = []\n",
    "\n",
    "for n, feat in enumerate(corr_df.index):\n",
    "    if feat not in targets:\n",
    "        row = corr_df.iloc[n]\n",
    "        target_corr_data = {\"feat\":feat, targets[0]:row[targets[0]], targets[1]:row[targets[1]], targets[2]:row[targets[2]], \n",
    "                           \"sum\":sum(row[targets])}\n",
    "        target_corr_df.append(target_corr_data)\n",
    "        \n",
    "    \n",
    "pd.DataFrame(target_corr_df)"
   ]
  },
  {
   "cell_type": "code",
   "execution_count": 128,
   "metadata": {},
   "outputs": [
    {
     "data": {
      "text/plain": [
       "['degree_spondylolisthesis',\n",
       " 'log_spondy',\n",
       " 'lumbar_lordosis_angle',\n",
       " 'pelvic_incidence',\n",
       " 'pelvic_tilt',\n",
       " 'sacral_slope']"
      ]
     },
     "execution_count": 128,
     "metadata": {},
     "output_type": "execute_result"
    }
   ],
   "source": [
    "# reference group of colinear variables\n",
    "group_of_interest"
   ]
  },
  {
   "cell_type": "markdown",
   "metadata": {},
   "source": [
    "# 3.3 Select best features"
   ]
  },
  {
   "cell_type": "markdown",
   "metadata": {},
   "source": [
    "It seems the best features are log_spondy and lumbar_lordosis_angle."
   ]
  },
  {
   "cell_type": "markdown",
   "metadata": {},
   "source": [
    "I will experiment with using just these features in the modeling process."
   ]
  },
  {
   "cell_type": "markdown",
   "metadata": {},
   "source": [
    "# 4.1 Engineer and Save Data"
   ]
  },
  {
   "cell_type": "code",
   "execution_count": 129,
   "metadata": {},
   "outputs": [],
   "source": [
    "# select features to drop\n",
    "group_of_interest.remove(\"lumbar_lordosis_angle\")\n",
    "group_of_interest.remove(\"pelvic_tilt\")"
   ]
  },
  {
   "cell_type": "code",
   "execution_count": 130,
   "metadata": {},
   "outputs": [
    {
     "data": {
      "text/plain": [
       "['degree_spondylolisthesis', 'log_spondy', 'pelvic_incidence', 'sacral_slope']"
      ]
     },
     "execution_count": 130,
     "metadata": {},
     "output_type": "execute_result"
    }
   ],
   "source": [
    "group_of_interest"
   ]
  },
  {
   "cell_type": "code",
   "execution_count": 132,
   "metadata": {},
   "outputs": [
    {
     "data": {
      "text/plain": [
       "Index(['lumbar_lordosis_angle', 'pelvic_radius', 'class__Hernia',\n",
       "       'class__Normal', 'class__Spondylolisthesis'],\n",
       "      dtype='object')"
      ]
     },
     "execution_count": 132,
     "metadata": {},
     "output_type": "execute_result"
    }
   ],
   "source": [
    "# remove above features from train and test sets\n",
    "train_engineered = train.drop(group_of_interest, axis=1)\n",
    "test_engineered = test.drop(group_of_interest, axis=1)\n",
    "\n",
    "train_engineered.columns"
   ]
  },
  {
   "cell_type": "code",
   "execution_count": 133,
   "metadata": {},
   "outputs": [],
   "source": [
    "# save engineered data\n",
    "train_engineered.to_csv(\"train_engineered.csv\", index=False)\n",
    "test_engineered.to_csv(\"test_engineered.csv\", index=False)"
   ]
  },
  {
   "cell_type": "code",
   "execution_count": null,
   "metadata": {},
   "outputs": [],
   "source": []
  }
 ],
 "metadata": {
  "kernelspec": {
   "display_name": "Python 3",
   "language": "python",
   "name": "python3"
  },
  "language_info": {
   "codemirror_mode": {
    "name": "ipython",
    "version": 3
   },
   "file_extension": ".py",
   "mimetype": "text/x-python",
   "name": "python",
   "nbconvert_exporter": "python",
   "pygments_lexer": "ipython3",
   "version": "3.7.3"
  }
 },
 "nbformat": 4,
 "nbformat_minor": 2
}
