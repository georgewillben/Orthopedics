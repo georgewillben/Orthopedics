{
 "cells": [
  {
   "cell_type": "markdown",
   "metadata": {},
   "source": [
    "# Final Evaluation"
   ]
  },
  {
   "cell_type": "markdown",
   "metadata": {},
   "source": [
    "In this notebook I will choose the best model for each problem and test it on never before seen data."
   ]
  },
  {
   "cell_type": "markdown",
   "metadata": {},
   "source": [
    "NOTE: Since this is a medical testing problem I will make recall the priority metric of performance. Since it is better to tell an healthy person they are ill then to tell an ill person they are well when they could use help."
   ]
  },
  {
   "cell_type": "code",
   "execution_count": 2,
   "metadata": {},
   "outputs": [],
   "source": [
    "#import libraries\n",
    "import numpy as np\n",
    "import pandas as pd\n",
    "import matplotlib.pyplot as plt\n",
    "%matplotlib inline\n",
    "\n",
    "from sklearn.preprocessing import StandardScaler\n",
    "from sklearn.model_selection import GridSearchCV, cross_validate\n",
    "from sklearn.linear_model import LogisticRegression\n",
    "from sklearn.ensemble import RandomForestClassifier\n",
    "from sklearn.metrics import recall_score, precision_score, accuracy_score, make_scorer\n",
    "\n",
    "import warnings\n",
    "warnings.filterwarnings(\"ignore\")"
   ]
  },
  {
   "cell_type": "markdown",
   "metadata": {},
   "source": [
    "# 1.1 Load Data"
   ]
  },
  {
   "cell_type": "code",
   "execution_count": 5,
   "metadata": {},
   "outputs": [
    {
     "data": {
      "text/html": [
       "<div>\n",
       "<style scoped>\n",
       "    .dataframe tbody tr th:only-of-type {\n",
       "        vertical-align: middle;\n",
       "    }\n",
       "\n",
       "    .dataframe tbody tr th {\n",
       "        vertical-align: top;\n",
       "    }\n",
       "\n",
       "    .dataframe thead th {\n",
       "        text-align: right;\n",
       "    }\n",
       "</style>\n",
       "<table border=\"1\" class=\"dataframe\">\n",
       "  <thead>\n",
       "    <tr style=\"text-align: right;\">\n",
       "      <th></th>\n",
       "      <th>pelvic_incidence</th>\n",
       "      <th>pelvic_tilt</th>\n",
       "      <th>lumbar_lordosis_angle</th>\n",
       "      <th>sacral_slope</th>\n",
       "      <th>pelvic_radius</th>\n",
       "      <th>degree_spondylolisthesis</th>\n",
       "      <th>class</th>\n",
       "    </tr>\n",
       "  </thead>\n",
       "  <tbody>\n",
       "    <tr>\n",
       "      <th>0</th>\n",
       "      <td>80.111572</td>\n",
       "      <td>33.942432</td>\n",
       "      <td>85.101608</td>\n",
       "      <td>46.169139</td>\n",
       "      <td>125.593624</td>\n",
       "      <td>100.292107</td>\n",
       "      <td>Spondylolisthesis</td>\n",
       "    </tr>\n",
       "    <tr>\n",
       "      <th>1</th>\n",
       "      <td>63.404481</td>\n",
       "      <td>14.115327</td>\n",
       "      <td>48.136806</td>\n",
       "      <td>49.289153</td>\n",
       "      <td>111.916008</td>\n",
       "      <td>31.784495</td>\n",
       "      <td>Spondylolisthesis</td>\n",
       "    </tr>\n",
       "    <tr>\n",
       "      <th>2</th>\n",
       "      <td>52.419385</td>\n",
       "      <td>19.011561</td>\n",
       "      <td>35.872660</td>\n",
       "      <td>33.407825</td>\n",
       "      <td>116.559771</td>\n",
       "      <td>1.694705</td>\n",
       "      <td>Hernia</td>\n",
       "    </tr>\n",
       "    <tr>\n",
       "      <th>3</th>\n",
       "      <td>91.468741</td>\n",
       "      <td>24.508177</td>\n",
       "      <td>84.620272</td>\n",
       "      <td>66.960564</td>\n",
       "      <td>117.307897</td>\n",
       "      <td>52.623047</td>\n",
       "      <td>Spondylolisthesis</td>\n",
       "    </tr>\n",
       "    <tr>\n",
       "      <th>4</th>\n",
       "      <td>44.362490</td>\n",
       "      <td>8.945435</td>\n",
       "      <td>46.902096</td>\n",
       "      <td>35.417055</td>\n",
       "      <td>129.220682</td>\n",
       "      <td>4.994195</td>\n",
       "      <td>Normal</td>\n",
       "    </tr>\n",
       "  </tbody>\n",
       "</table>\n",
       "</div>"
      ],
      "text/plain": [
       "   pelvic_incidence  pelvic_tilt  lumbar_lordosis_angle  sacral_slope  \\\n",
       "0         80.111572    33.942432              85.101608     46.169139   \n",
       "1         63.404481    14.115327              48.136806     49.289153   \n",
       "2         52.419385    19.011561              35.872660     33.407825   \n",
       "3         91.468741    24.508177              84.620272     66.960564   \n",
       "4         44.362490     8.945435              46.902096     35.417055   \n",
       "\n",
       "   pelvic_radius  degree_spondylolisthesis              class  \n",
       "0     125.593624                100.292107  Spondylolisthesis  \n",
       "1     111.916008                 31.784495  Spondylolisthesis  \n",
       "2     116.559771                  1.694705             Hernia  \n",
       "3     117.307897                 52.623047  Spondylolisthesis  \n",
       "4     129.220682                  4.994195             Normal  "
      ]
     },
     "execution_count": 5,
     "metadata": {},
     "output_type": "execute_result"
    }
   ],
   "source": [
    "# load data from csv\n",
    "train = pd.read_csv(\"train.csv\")\n",
    "test = pd.read_csv(\"test.csv\")\n",
    "\n",
    "\n",
    "train.head()"
   ]
  },
  {
   "cell_type": "markdown",
   "metadata": {},
   "source": [
    "# 1.2 One Hot Encode Target Variable"
   ]
  },
  {
   "cell_type": "code",
   "execution_count": 6,
   "metadata": {},
   "outputs": [
    {
     "data": {
      "text/html": [
       "<div>\n",
       "<style scoped>\n",
       "    .dataframe tbody tr th:only-of-type {\n",
       "        vertical-align: middle;\n",
       "    }\n",
       "\n",
       "    .dataframe tbody tr th {\n",
       "        vertical-align: top;\n",
       "    }\n",
       "\n",
       "    .dataframe thead th {\n",
       "        text-align: right;\n",
       "    }\n",
       "</style>\n",
       "<table border=\"1\" class=\"dataframe\">\n",
       "  <thead>\n",
       "    <tr style=\"text-align: right;\">\n",
       "      <th></th>\n",
       "      <th>pelvic_incidence</th>\n",
       "      <th>pelvic_tilt</th>\n",
       "      <th>lumbar_lordosis_angle</th>\n",
       "      <th>sacral_slope</th>\n",
       "      <th>pelvic_radius</th>\n",
       "      <th>degree_spondylolisthesis</th>\n",
       "      <th>class__Hernia</th>\n",
       "      <th>class__Normal</th>\n",
       "      <th>class__Spondylolisthesis</th>\n",
       "    </tr>\n",
       "  </thead>\n",
       "  <tbody>\n",
       "    <tr>\n",
       "      <th>0</th>\n",
       "      <td>80.111572</td>\n",
       "      <td>33.942432</td>\n",
       "      <td>85.101608</td>\n",
       "      <td>46.169139</td>\n",
       "      <td>125.593624</td>\n",
       "      <td>100.292107</td>\n",
       "      <td>0</td>\n",
       "      <td>0</td>\n",
       "      <td>1</td>\n",
       "    </tr>\n",
       "    <tr>\n",
       "      <th>1</th>\n",
       "      <td>63.404481</td>\n",
       "      <td>14.115327</td>\n",
       "      <td>48.136806</td>\n",
       "      <td>49.289153</td>\n",
       "      <td>111.916008</td>\n",
       "      <td>31.784495</td>\n",
       "      <td>0</td>\n",
       "      <td>0</td>\n",
       "      <td>1</td>\n",
       "    </tr>\n",
       "    <tr>\n",
       "      <th>2</th>\n",
       "      <td>52.419385</td>\n",
       "      <td>19.011561</td>\n",
       "      <td>35.872660</td>\n",
       "      <td>33.407825</td>\n",
       "      <td>116.559771</td>\n",
       "      <td>1.694705</td>\n",
       "      <td>1</td>\n",
       "      <td>0</td>\n",
       "      <td>0</td>\n",
       "    </tr>\n",
       "    <tr>\n",
       "      <th>3</th>\n",
       "      <td>91.468741</td>\n",
       "      <td>24.508177</td>\n",
       "      <td>84.620272</td>\n",
       "      <td>66.960564</td>\n",
       "      <td>117.307897</td>\n",
       "      <td>52.623047</td>\n",
       "      <td>0</td>\n",
       "      <td>0</td>\n",
       "      <td>1</td>\n",
       "    </tr>\n",
       "    <tr>\n",
       "      <th>4</th>\n",
       "      <td>44.362490</td>\n",
       "      <td>8.945435</td>\n",
       "      <td>46.902096</td>\n",
       "      <td>35.417055</td>\n",
       "      <td>129.220682</td>\n",
       "      <td>4.994195</td>\n",
       "      <td>0</td>\n",
       "      <td>1</td>\n",
       "      <td>0</td>\n",
       "    </tr>\n",
       "  </tbody>\n",
       "</table>\n",
       "</div>"
      ],
      "text/plain": [
       "   pelvic_incidence  pelvic_tilt  lumbar_lordosis_angle  sacral_slope  \\\n",
       "0         80.111572    33.942432              85.101608     46.169139   \n",
       "1         63.404481    14.115327              48.136806     49.289153   \n",
       "2         52.419385    19.011561              35.872660     33.407825   \n",
       "3         91.468741    24.508177              84.620272     66.960564   \n",
       "4         44.362490     8.945435              46.902096     35.417055   \n",
       "\n",
       "   pelvic_radius  degree_spondylolisthesis  class__Hernia  class__Normal  \\\n",
       "0     125.593624                100.292107              0              0   \n",
       "1     111.916008                 31.784495              0              0   \n",
       "2     116.559771                  1.694705              1              0   \n",
       "3     117.307897                 52.623047              0              0   \n",
       "4     129.220682                  4.994195              0              1   \n",
       "\n",
       "   class__Spondylolisthesis  \n",
       "0                         1  \n",
       "1                         1  \n",
       "2                         0  \n",
       "3                         1  \n",
       "4                         0  "
      ]
     },
     "execution_count": 6,
     "metadata": {},
     "output_type": "execute_result"
    }
   ],
   "source": [
    "# ohe data\n",
    "def ohe(df):\n",
    "    dummies = pd.get_dummies(df[\"class\"], prefix=\"class_\")\n",
    "    df.drop(\"class\", axis=1, inplace=True)\n",
    "    df = pd.concat([df, dummies], axis=1)\n",
    "    \n",
    "    return df\n",
    "\n",
    "train = ohe(train)\n",
    "\n",
    "train.head()"
   ]
  },
  {
   "cell_type": "code",
   "execution_count": 7,
   "metadata": {},
   "outputs": [],
   "source": [
    "test = ohe(test)"
   ]
  },
  {
   "cell_type": "markdown",
   "metadata": {},
   "source": [
    "# 2.1 Preprocessing"
   ]
  },
  {
   "cell_type": "markdown",
   "metadata": {},
   "source": [
    "Here I will seperate the target variables and the features. I will also scale the data."
   ]
  },
  {
   "cell_type": "code",
   "execution_count": 8,
   "metadata": {},
   "outputs": [
    {
     "data": {
      "text/plain": [
       "((279, 6), (31, 6), (279,), (31,))"
      ]
     },
     "execution_count": 8,
     "metadata": {},
     "output_type": "execute_result"
    }
   ],
   "source": [
    "# seperate independent and dependent variables\n",
    "\n",
    "# training data\n",
    "targets = [col for col in train.columns if col.startswith(\"class\")]\n",
    "X_train = train.drop(targets, axis=1)\n",
    "y_train_hernia = train[\"class__Hernia\"]\n",
    "y_train_spond = train[\"class__Spondylolisthesis\"]\n",
    "\n",
    "# testing data\n",
    "X_test = test.drop(targets, axis=1)\n",
    "y_test_hernia = test[\"class__Hernia\"]\n",
    "y_test_spond = test[\"class__Spondylolisthesis\"]\n",
    "\n",
    "X_train.shape, X_test.shape, y_train_hernia.shape, y_test_hernia.shape"
   ]
  },
  {
   "cell_type": "code",
   "execution_count": 9,
   "metadata": {},
   "outputs": [],
   "source": [
    "# scaling\n",
    "sc = StandardScaler()\n",
    "\n",
    "X_train = sc.fit_transform(X_train)\n",
    "X_test = sc.transform(X_test)"
   ]
  },
  {
   "cell_type": "markdown",
   "metadata": {},
   "source": [
    "# 3.1 Training"
   ]
  },
  {
   "cell_type": "markdown",
   "metadata": {},
   "source": [
    "Now I will retrain the models. I will use logistic regression for hernia detection and random forest for spondylolisthesis. The ideal parameters have been previously found."
   ]
  },
  {
   "cell_type": "code",
   "execution_count": 11,
   "metadata": {},
   "outputs": [],
   "source": [
    "# hernia\n",
    "hernia_model = LogisticRegression()\n",
    "\n",
    "# spondylolisthesis\n",
    "spond_model = RandomForestClassifier(max_depth=5, n_estimators=50)"
   ]
  },
  {
   "cell_type": "code",
   "execution_count": 14,
   "metadata": {},
   "outputs": [],
   "source": [
    "# scores\n",
    "# create a function to print desired scores\n",
    "scorers = [make_scorer(g) for g in [recall_score, precision_score, accuracy_score]]\n",
    "\n",
    "def find_scores(clf, X, y, scorers):\n",
    "    for scorer, score_type in zip(scorers, [\"recall\", \"precision\", \"accuracy\"]):\n",
    "        print(f\"\\n\\n{score_type}\")\n",
    "        results = cross_validate(clf, X, y, scoring=scorer, cv=4)[\"test_score\"]\n",
    "        print(results)\n",
    "        print(\"avg:\", sum(results)/4)\n",
    "        print(\"var:\", np.array(results).var())\n"
   ]
  },
  {
   "cell_type": "code",
   "execution_count": 15,
   "metadata": {},
   "outputs": [
    {
     "name": "stdout",
     "output_type": "stream",
     "text": [
      "\n",
      "\n",
      "recall\n",
      "[0.71428571 0.64285714 0.53846154 0.61538462]\n",
      "avg: 0.6277472527472527\n",
      "var: 0.003960496920661758\n",
      "\n",
      "\n",
      "precision\n",
      "[0.71428571 0.9        0.63636364 0.66666667]\n",
      "avg: 0.7293290043290043\n",
      "var: 0.010481004385225166\n",
      "\n",
      "\n",
      "accuracy\n",
      "[0.88732394 0.91428571 0.85507246 0.86956522]\n",
      "avg: 0.8815618347767765\n",
      "var: 0.0004874149485120506\n"
     ]
    }
   ],
   "source": [
    "# hernia scores\n",
    "find_scores(hernia_model, X_train, y_train_hernia, scorers)"
   ]
  },
  {
   "cell_type": "code",
   "execution_count": 16,
   "metadata": {},
   "outputs": [
    {
     "name": "stdout",
     "output_type": "stream",
     "text": [
      "\n",
      "\n",
      "recall\n",
      "[0.97058824 0.97058824 1.         0.96969697]\n",
      "avg: 0.9777183600713013\n",
      "var: 0.00016562288503150404\n",
      "\n",
      "\n",
      "precision\n",
      "[0.91428571 1.         0.94444444 0.94117647]\n",
      "avg: 0.9499766573295985\n",
      "var: 0.0009710567233429326\n",
      "\n",
      "\n",
      "accuracy\n",
      "[0.95714286 0.98571429 0.97142857 0.95652174]\n",
      "avg: 0.9677018633540373\n",
      "var: 0.00014370587554492502\n"
     ]
    }
   ],
   "source": [
    "# spondylolithesis scores\n",
    "find_scores(spond_model, X_train, y_train_spond, scorers)"
   ]
  },
  {
   "cell_type": "markdown",
   "metadata": {},
   "source": [
    "# 3.2 Precision Recall Tradeoff"
   ]
  },
  {
   "cell_type": "markdown",
   "metadata": {},
   "source": [
    "It should be useful to use the precision recall tradoff with the hernia classifier. As the recall is only %62 on the training set and recall is the most important metric when dealing with medical tests."
   ]
  },
  {
   "cell_type": "code",
   "execution_count": 30,
   "metadata": {
    "scrolled": true
   },
   "outputs": [
    {
     "data": {
      "image/png": "[encoded data removed]",
      "text/plain": [
       "<Figure size 1080x360 with 1 Axes>"
      ]
     },
     "metadata": {
      "needs_background": "light"
     },
     "output_type": "display_data"
    }
   ],
   "source": [
    "# precision recall trade-off\n",
    "\n",
    "# fit\n",
    "hernia_model.fit(X_train, y_train_hernia)\n",
    "\n",
    "# get probabilities\n",
    "probs = hernia_model.predict_proba(X_train)[:, 1]\n",
    "\n",
    "# create thresholds\n",
    "thresholds = np.linspace(0, 1, 50)\n",
    "\n",
    "# create new results for each threshold\n",
    "prec_scores = []\n",
    "rec_scores = []\n",
    "for th in thresholds:\n",
    "    new_results = [0 if p <= th else 1 for p in probs]\n",
    "    prec_scores.append(precision_score(y_train_hernia, new_results))\n",
    "    rec_scores.append(recall_score(y_train_hernia, new_results))\n",
    "    \n",
    "# plotting\n",
    "plt.figure(figsize=(15, 5))\n",
    "plt.plot(thresholds, prec_scores, label=\"precision\")\n",
    "plt.plot(thresholds, rec_scores, label=\"recall\")\n",
    "plt.title(\"Precision_Recall_Tradeoff\")\n",
    "plt.xlabel(\"thresholds\")\n",
    "plt.ylabel(\"score\")\n",
    "plt.legend()\n",
    "plt.show()"
   ]
  },
  {
   "cell_type": "markdown",
   "metadata": {},
   "source": [
    "It seems like the best tradeoff point is around 0.25"
   ]
  },
  {
   "cell_type": "markdown",
   "metadata": {},
   "source": [
    "# 4.1 Final Evaluation"
   ]
  },
  {
   "cell_type": "markdown",
   "metadata": {},
   "source": [
    "Now it is time to test the models on the testing set."
   ]
  },
  {
   "cell_type": "markdown",
   "metadata": {},
   "source": [
    "#### Hernia Model"
   ]
  },
  {
   "cell_type": "code",
   "execution_count": 31,
   "metadata": {},
   "outputs": [
    {
     "name": "stdout",
     "output_type": "stream",
     "text": [
      "recall: 0.8333333333333334\n",
      "precision: 0.7142857142857143\n",
      "accuracy: 0.9032258064516129\n"
     ]
    }
   ],
   "source": [
    "# get probabilities\n",
    "probs = hernia_model.predict_proba(X_test)[:, 1]\n",
    "\n",
    "# adjust threshold\n",
    "results = [0 if p <= 0.25 else 1 for p in probs]\n",
    "\n",
    "# print scores\n",
    "print(\"recall:\", recall_score(y_test_hernia, results))\n",
    "print(\"precision:\", precision_score(y_test_hernia, results))\n",
    "print(\"accuracy:\", accuracy_score(y_test_hernia, results))"
   ]
  },
  {
   "cell_type": "markdown",
   "metadata": {},
   "source": [
    "##### Spondylolisthesis model"
   ]
  },
  {
   "cell_type": "code",
   "execution_count": 33,
   "metadata": {},
   "outputs": [
    {
     "name": "stdout",
     "output_type": "stream",
     "text": [
      "recall: 1.0\n",
      "precision: 0.9375\n",
      "accuracy: 0.967741935483871\n"
     ]
    }
   ],
   "source": [
    "# fit model and get results\n",
    "spond_model.fit(X_train, y_train_spond)\n",
    "results = spond_model.predict(X_test)\n",
    "\n",
    "# print scores\n",
    "print(\"recall:\", recall_score(y_test_spond, results))\n",
    "print(\"precision:\", precision_score(y_test_spond, results))\n",
    "print(\"accuracy:\", accuracy_score(y_test_spond, results))"
   ]
  }
 ],
 "metadata": {
  "kernelspec": {
   "display_name": "Python 3",
   "language": "python",
   "name": "python3"
  },
  "language_info": {
   "codemirror_mode": {
    "name": "ipython",
    "version": 3
   },
   "file_extension": ".py",
   "mimetype": "text/x-python",
   "name": "python",
   "nbconvert_exporter": "python",
   "pygments_lexer": "ipython3",
   "version": "3.7.3"
  }
 },
 "nbformat": 4,
 "nbformat_minor": 2
}
