{
 "cells": [
  {
   "cell_type": "markdown",
   "metadata": {},
   "source": [
    "# Random Forest Modeling"
   ]
  },
  {
   "cell_type": "code",
   "execution_count": 3,
   "metadata": {},
   "outputs": [],
   "source": [
    "#import libraries\n",
    "import numpy as np\n",
    "import pandas as pd\n",
    "import matplotlib.pyplot as plt\n",
    "%matplotlib inline\n",
    "\n",
    "from sklearn.preprocessing import StandardScaler\n",
    "from sklearn.model_selection import GridSearchCV, cross_validate\n",
    "from sklearn.ensemble import RandomForestClassifier\n",
    "from sklearn.metrics import recall_score, precision_score, accuracy_score, make_scorer\n",
    "\n",
    "import warnings\n",
    "warnings.filterwarnings(\"ignore\")"
   ]
  },
  {
   "cell_type": "markdown",
   "metadata": {},
   "source": [
    "# 1.1 Load Data"
   ]
  },
  {
   "cell_type": "code",
   "execution_count": 4,
   "metadata": {},
   "outputs": [
    {
     "data": {
      "text/html": [
       "<div>\n",
       "<style scoped>\n",
       "    .dataframe tbody tr th:only-of-type {\n",
       "        vertical-align: middle;\n",
       "    }\n",
       "\n",
       "    .dataframe tbody tr th {\n",
       "        vertical-align: top;\n",
       "    }\n",
       "\n",
       "    .dataframe thead th {\n",
       "        text-align: right;\n",
       "    }\n",
       "</style>\n",
       "<table border=\"1\" class=\"dataframe\">\n",
       "  <thead>\n",
       "    <tr style=\"text-align: right;\">\n",
       "      <th></th>\n",
       "      <th>pelvic_incidence</th>\n",
       "      <th>pelvic_tilt</th>\n",
       "      <th>lumbar_lordosis_angle</th>\n",
       "      <th>sacral_slope</th>\n",
       "      <th>pelvic_radius</th>\n",
       "      <th>degree_spondylolisthesis</th>\n",
       "      <th>class</th>\n",
       "    </tr>\n",
       "  </thead>\n",
       "  <tbody>\n",
       "    <tr>\n",
       "      <th>0</th>\n",
       "      <td>80.111572</td>\n",
       "      <td>33.942432</td>\n",
       "      <td>85.101608</td>\n",
       "      <td>46.169139</td>\n",
       "      <td>125.593624</td>\n",
       "      <td>100.292107</td>\n",
       "      <td>Spondylolisthesis</td>\n",
       "    </tr>\n",
       "    <tr>\n",
       "      <th>1</th>\n",
       "      <td>63.404481</td>\n",
       "      <td>14.115327</td>\n",
       "      <td>48.136806</td>\n",
       "      <td>49.289153</td>\n",
       "      <td>111.916008</td>\n",
       "      <td>31.784495</td>\n",
       "      <td>Spondylolisthesis</td>\n",
       "    </tr>\n",
       "    <tr>\n",
       "      <th>2</th>\n",
       "      <td>52.419385</td>\n",
       "      <td>19.011561</td>\n",
       "      <td>35.872660</td>\n",
       "      <td>33.407825</td>\n",
       "      <td>116.559771</td>\n",
       "      <td>1.694705</td>\n",
       "      <td>Hernia</td>\n",
       "    </tr>\n",
       "    <tr>\n",
       "      <th>3</th>\n",
       "      <td>91.468741</td>\n",
       "      <td>24.508177</td>\n",
       "      <td>84.620272</td>\n",
       "      <td>66.960564</td>\n",
       "      <td>117.307897</td>\n",
       "      <td>52.623047</td>\n",
       "      <td>Spondylolisthesis</td>\n",
       "    </tr>\n",
       "    <tr>\n",
       "      <th>4</th>\n",
       "      <td>44.362490</td>\n",
       "      <td>8.945435</td>\n",
       "      <td>46.902096</td>\n",
       "      <td>35.417055</td>\n",
       "      <td>129.220682</td>\n",
       "      <td>4.994195</td>\n",
       "      <td>Normal</td>\n",
       "    </tr>\n",
       "  </tbody>\n",
       "</table>\n",
       "</div>"
      ],
      "text/plain": [
       "   pelvic_incidence  pelvic_tilt  lumbar_lordosis_angle  sacral_slope  \\\n",
       "0         80.111572    33.942432              85.101608     46.169139   \n",
       "1         63.404481    14.115327              48.136806     49.289153   \n",
       "2         52.419385    19.011561              35.872660     33.407825   \n",
       "3         91.468741    24.508177              84.620272     66.960564   \n",
       "4         44.362490     8.945435              46.902096     35.417055   \n",
       "\n",
       "   pelvic_radius  degree_spondylolisthesis              class  \n",
       "0     125.593624                100.292107  Spondylolisthesis  \n",
       "1     111.916008                 31.784495  Spondylolisthesis  \n",
       "2     116.559771                  1.694705             Hernia  \n",
       "3     117.307897                 52.623047  Spondylolisthesis  \n",
       "4     129.220682                  4.994195             Normal  "
      ]
     },
     "execution_count": 4,
     "metadata": {},
     "output_type": "execute_result"
    }
   ],
   "source": [
    "# non-engineered data\n",
    "df = pd.read_csv(\"train.csv\")\n",
    "\n",
    "# engineered data\n",
    "df_eng = pd.read_csv(\"train_engineered.csv\")\n",
    "\n",
    "df.head()"
   ]
  },
  {
   "cell_type": "code",
   "execution_count": 5,
   "metadata": {},
   "outputs": [
    {
     "data": {
      "text/html": [
       "<div>\n",
       "<style scoped>\n",
       "    .dataframe tbody tr th:only-of-type {\n",
       "        vertical-align: middle;\n",
       "    }\n",
       "\n",
       "    .dataframe tbody tr th {\n",
       "        vertical-align: top;\n",
       "    }\n",
       "\n",
       "    .dataframe thead th {\n",
       "        text-align: right;\n",
       "    }\n",
       "</style>\n",
       "<table border=\"1\" class=\"dataframe\">\n",
       "  <thead>\n",
       "    <tr style=\"text-align: right;\">\n",
       "      <th></th>\n",
       "      <th>lumbar_lordosis_angle</th>\n",
       "      <th>pelvic_radius</th>\n",
       "      <th>class__Hernia</th>\n",
       "      <th>class__Normal</th>\n",
       "      <th>class__Spondylolisthesis</th>\n",
       "    </tr>\n",
       "  </thead>\n",
       "  <tbody>\n",
       "    <tr>\n",
       "      <th>0</th>\n",
       "      <td>85.101608</td>\n",
       "      <td>125.593624</td>\n",
       "      <td>0</td>\n",
       "      <td>0</td>\n",
       "      <td>1</td>\n",
       "    </tr>\n",
       "    <tr>\n",
       "      <th>1</th>\n",
       "      <td>48.136806</td>\n",
       "      <td>111.916007</td>\n",
       "      <td>0</td>\n",
       "      <td>0</td>\n",
       "      <td>1</td>\n",
       "    </tr>\n",
       "    <tr>\n",
       "      <th>2</th>\n",
       "      <td>35.872660</td>\n",
       "      <td>116.559771</td>\n",
       "      <td>1</td>\n",
       "      <td>0</td>\n",
       "      <td>0</td>\n",
       "    </tr>\n",
       "    <tr>\n",
       "      <th>3</th>\n",
       "      <td>84.620272</td>\n",
       "      <td>117.307897</td>\n",
       "      <td>0</td>\n",
       "      <td>0</td>\n",
       "      <td>1</td>\n",
       "    </tr>\n",
       "    <tr>\n",
       "      <th>4</th>\n",
       "      <td>46.902096</td>\n",
       "      <td>129.220682</td>\n",
       "      <td>0</td>\n",
       "      <td>1</td>\n",
       "      <td>0</td>\n",
       "    </tr>\n",
       "  </tbody>\n",
       "</table>\n",
       "</div>"
      ],
      "text/plain": [
       "   lumbar_lordosis_angle  pelvic_radius  class__Hernia  class__Normal  \\\n",
       "0              85.101608     125.593624              0              0   \n",
       "1              48.136806     111.916007              0              0   \n",
       "2              35.872660     116.559771              1              0   \n",
       "3              84.620272     117.307897              0              0   \n",
       "4              46.902096     129.220682              0              1   \n",
       "\n",
       "   class__Spondylolisthesis  \n",
       "0                         1  \n",
       "1                         1  \n",
       "2                         0  \n",
       "3                         1  \n",
       "4                         0  "
      ]
     },
     "execution_count": 5,
     "metadata": {},
     "output_type": "execute_result"
    }
   ],
   "source": [
    "df_eng.head()"
   ]
  },
  {
   "cell_type": "markdown",
   "metadata": {},
   "source": [
    "# 1.2 One Hot Encode Target Variable"
   ]
  },
  {
   "cell_type": "code",
   "execution_count": 6,
   "metadata": {},
   "outputs": [
    {
     "data": {
      "text/html": [
       "<div>\n",
       "<style scoped>\n",
       "    .dataframe tbody tr th:only-of-type {\n",
       "        vertical-align: middle;\n",
       "    }\n",
       "\n",
       "    .dataframe tbody tr th {\n",
       "        vertical-align: top;\n",
       "    }\n",
       "\n",
       "    .dataframe thead th {\n",
       "        text-align: right;\n",
       "    }\n",
       "</style>\n",
       "<table border=\"1\" class=\"dataframe\">\n",
       "  <thead>\n",
       "    <tr style=\"text-align: right;\">\n",
       "      <th></th>\n",
       "      <th>pelvic_incidence</th>\n",
       "      <th>pelvic_tilt</th>\n",
       "      <th>lumbar_lordosis_angle</th>\n",
       "      <th>sacral_slope</th>\n",
       "      <th>pelvic_radius</th>\n",
       "      <th>degree_spondylolisthesis</th>\n",
       "      <th>class__Hernia</th>\n",
       "      <th>class__Normal</th>\n",
       "      <th>class__Spondylolisthesis</th>\n",
       "    </tr>\n",
       "  </thead>\n",
       "  <tbody>\n",
       "    <tr>\n",
       "      <th>0</th>\n",
       "      <td>80.111572</td>\n",
       "      <td>33.942432</td>\n",
       "      <td>85.101608</td>\n",
       "      <td>46.169139</td>\n",
       "      <td>125.593624</td>\n",
       "      <td>100.292107</td>\n",
       "      <td>0</td>\n",
       "      <td>0</td>\n",
       "      <td>1</td>\n",
       "    </tr>\n",
       "    <tr>\n",
       "      <th>1</th>\n",
       "      <td>63.404481</td>\n",
       "      <td>14.115327</td>\n",
       "      <td>48.136806</td>\n",
       "      <td>49.289153</td>\n",
       "      <td>111.916008</td>\n",
       "      <td>31.784495</td>\n",
       "      <td>0</td>\n",
       "      <td>0</td>\n",
       "      <td>1</td>\n",
       "    </tr>\n",
       "    <tr>\n",
       "      <th>2</th>\n",
       "      <td>52.419385</td>\n",
       "      <td>19.011561</td>\n",
       "      <td>35.872660</td>\n",
       "      <td>33.407825</td>\n",
       "      <td>116.559771</td>\n",
       "      <td>1.694705</td>\n",
       "      <td>1</td>\n",
       "      <td>0</td>\n",
       "      <td>0</td>\n",
       "    </tr>\n",
       "    <tr>\n",
       "      <th>3</th>\n",
       "      <td>91.468741</td>\n",
       "      <td>24.508177</td>\n",
       "      <td>84.620272</td>\n",
       "      <td>66.960564</td>\n",
       "      <td>117.307897</td>\n",
       "      <td>52.623047</td>\n",
       "      <td>0</td>\n",
       "      <td>0</td>\n",
       "      <td>1</td>\n",
       "    </tr>\n",
       "    <tr>\n",
       "      <th>4</th>\n",
       "      <td>44.362490</td>\n",
       "      <td>8.945435</td>\n",
       "      <td>46.902096</td>\n",
       "      <td>35.417055</td>\n",
       "      <td>129.220682</td>\n",
       "      <td>4.994195</td>\n",
       "      <td>0</td>\n",
       "      <td>1</td>\n",
       "      <td>0</td>\n",
       "    </tr>\n",
       "  </tbody>\n",
       "</table>\n",
       "</div>"
      ],
      "text/plain": [
       "   pelvic_incidence  pelvic_tilt  lumbar_lordosis_angle  sacral_slope  \\\n",
       "0         80.111572    33.942432              85.101608     46.169139   \n",
       "1         63.404481    14.115327              48.136806     49.289153   \n",
       "2         52.419385    19.011561              35.872660     33.407825   \n",
       "3         91.468741    24.508177              84.620272     66.960564   \n",
       "4         44.362490     8.945435              46.902096     35.417055   \n",
       "\n",
       "   pelvic_radius  degree_spondylolisthesis  class__Hernia  class__Normal  \\\n",
       "0     125.593624                100.292107              0              0   \n",
       "1     111.916008                 31.784495              0              0   \n",
       "2     116.559771                  1.694705              1              0   \n",
       "3     117.307897                 52.623047              0              0   \n",
       "4     129.220682                  4.994195              0              1   \n",
       "\n",
       "   class__Spondylolisthesis  \n",
       "0                         1  \n",
       "1                         1  \n",
       "2                         0  \n",
       "3                         1  \n",
       "4                         0  "
      ]
     },
     "execution_count": 6,
     "metadata": {},
     "output_type": "execute_result"
    }
   ],
   "source": [
    "# ohe non-engineered data\n",
    "dummies = pd.get_dummies(df[\"class\"], prefix=\"class_\")\n",
    "df.drop(\"class\", axis=1, inplace=True)\n",
    "df = pd.concat([df, dummies], axis=1)\n",
    "\n",
    "df.head()"
   ]
  },
  {
   "cell_type": "markdown",
   "metadata": {},
   "source": [
    "# 2.1 Preprocessing"
   ]
  },
  {
   "cell_type": "markdown",
   "metadata": {},
   "source": [
    "Here I will seperate the independent and dependent variables. I will also scale the independent variables."
   ]
  },
  {
   "cell_type": "code",
   "execution_count": 7,
   "metadata": {},
   "outputs": [
    {
     "data": {
      "text/plain": [
       "((279, 6), (279,), (279,), (279, 2), (279,), (279,))"
      ]
     },
     "execution_count": 7,
     "metadata": {},
     "output_type": "execute_result"
    }
   ],
   "source": [
    "# seperate independent and dependent variables\n",
    "\n",
    "targets = [col for col in df if col.startswith(\"class\")]\n",
    "\n",
    "# non-engineered data\n",
    "X = df.drop(targets, axis=1)\n",
    "y_hernia = df[\"class__Hernia\"]\n",
    "y_spond = df[\"class__Spondylolisthesis\"]\n",
    "\n",
    "# engineered data\n",
    "Xe = df_eng.drop(targets, axis=1)\n",
    "ye_hernia = df_eng[\"class__Hernia\"]\n",
    "ye_spond = df_eng[\"class__Spondylolisthesis\"]\n",
    "\n",
    "X.shape, y_hernia.shape, y_spond.shape, Xe.shape, ye_hernia.shape, ye_spond.shape"
   ]
  },
  {
   "cell_type": "code",
   "execution_count": 8,
   "metadata": {},
   "outputs": [],
   "source": [
    "# scale data\n",
    "sc = StandardScaler()\n",
    "\n",
    "# non-engineered data\n",
    "X = sc.fit_transform(X)\n",
    "\n",
    "# engineered data\n",
    "Xe = sc.fit_transform(Xe)"
   ]
  },
  {
   "cell_type": "markdown",
   "metadata": {},
   "source": [
    "# 3.1 Baseline Models"
   ]
  },
  {
   "cell_type": "markdown",
   "metadata": {},
   "source": [
    "Here I will look at the baseline performance of the default LogisticRegression model on the data sets. I will use cross validation."
   ]
  },
  {
   "cell_type": "code",
   "execution_count": 9,
   "metadata": {},
   "outputs": [],
   "source": [
    "# instantiate the default logistic regression model\n",
    "clf = RandomForestClassifier()"
   ]
  },
  {
   "cell_type": "code",
   "execution_count": 10,
   "metadata": {},
   "outputs": [
    {
     "name": "stdout",
     "output_type": "stream",
     "text": [
      "\n",
      "\n",
      "recall\n",
      "[0.5        0.35714286 0.61538462 0.46153846]\n",
      "avg: 0.4835164835164836\n",
      "var: 0.008528559352735178\n",
      "\n",
      "\n",
      "precision\n",
      "[0.72727273 0.8        0.63636364 0.6       ]\n",
      "avg: 0.6909090909090909\n",
      "var: 0.006115702479338847\n",
      "\n",
      "\n",
      "accuracy\n",
      "[0.85915493 0.85714286 0.84057971 0.88405797]\n",
      "avg: 0.8602338669699355\n",
      "var: 0.0002411480654189667\n"
     ]
    }
   ],
   "source": [
    "# create a function to print desired scores\n",
    "scorers = [make_scorer(g) for g in [recall_score, precision_score, accuracy_score]]\n",
    "\n",
    "def find_scores(classifier, X, y, scorers):\n",
    "    for scorer, score_type in zip(scorers, [\"recall\", \"precision\", \"accuracy\"]):\n",
    "        print(f\"\\n\\n{score_type}\")\n",
    "        results = cross_validate(clf, X, y, scoring=scorer, cv=4)[\"test_score\"]\n",
    "        print(results)\n",
    "        print(\"avg:\", sum(results)/4)\n",
    "        print(\"var:\", np.array(results).var())\n",
    "\n",
    "# run function on non-engineered data pertaining to hernias\n",
    "find_scores(clf, X, y_hernia, scorers)"
   ]
  },
  {
   "cell_type": "code",
   "execution_count": 11,
   "metadata": {},
   "outputs": [
    {
     "name": "stdout",
     "output_type": "stream",
     "text": [
      "\n",
      "\n",
      "recall\n",
      "[0.97058824 0.94117647 0.97058824 0.96969697]\n",
      "avg: 0.9630124777183601\n",
      "var: 0.00015906946152306344\n",
      "\n",
      "\n",
      "precision\n",
      "[0.94117647 1.         0.97142857 0.96969697]\n",
      "avg: 0.9705755029284441\n",
      "var: 0.00043290091923984007\n",
      "\n",
      "\n",
      "accuracy\n",
      "[0.94285714 0.95714286 0.98571429 0.95652174]\n",
      "avg: 0.9605590062111802\n",
      "var: 0.00024352841325566213\n"
     ]
    }
   ],
   "source": [
    "# find scores for non-engineered data pertaining to Spondylolisthesis\n",
    "find_scores(clf, X, y_spond, scorers)"
   ]
  },
  {
   "cell_type": "code",
   "execution_count": 12,
   "metadata": {},
   "outputs": [
    {
     "name": "stdout",
     "output_type": "stream",
     "text": [
      "\n",
      "\n",
      "recall\n",
      "[0.5        0.57142857 0.15384615 0.38461538]\n",
      "avg: 0.4024725274725275\n",
      "var: 0.025047925975123776\n",
      "\n",
      "\n",
      "precision\n",
      "[0.55555556 0.25       0.42857143 0.45454545]\n",
      "avg: 0.4221681096681097\n",
      "var: 0.01213084091533767\n",
      "\n",
      "\n",
      "accuracy\n",
      "[0.83098592 0.74285714 0.82608696 0.82608696]\n",
      "avg: 0.8065042428483947\n",
      "var: 0.0013543177455990838\n"
     ]
    }
   ],
   "source": [
    "# find scores for engineered data pertaining to hernia\n",
    "find_scores(clf, Xe, ye_hernia, scorers)"
   ]
  },
  {
   "cell_type": "code",
   "execution_count": 13,
   "metadata": {},
   "outputs": [
    {
     "name": "stdout",
     "output_type": "stream",
     "text": [
      "\n",
      "\n",
      "recall\n",
      "[0.67647059 0.70588235 0.82352941 0.87878788]\n",
      "avg: 0.7711675579322639\n",
      "var: 0.006888392814588154\n",
      "\n",
      "\n",
      "precision\n",
      "[0.82142857 0.8        0.82857143 0.83870968]\n",
      "avg: 0.8221774193548388\n",
      "var: 0.000201649403257661\n",
      "\n",
      "\n",
      "accuracy\n",
      "[0.75714286 0.8        0.82857143 0.84057971]\n",
      "avg: 0.8065734989648032\n",
      "var: 0.0010317326363437629\n"
     ]
    }
   ],
   "source": [
    "# find scores for engineered data pertaining to Spondylolisthesis\n",
    "find_scores(clf, Xe, ye_spond, scorers)"
   ]
  },
  {
   "cell_type": "markdown",
   "metadata": {},
   "source": [
    "Overall the non-engineered data seemed to work the best so far."
   ]
  },
  {
   "cell_type": "markdown",
   "metadata": {},
   "source": [
    "# 4.1 Hyper paramerer tuning"
   ]
  },
  {
   "cell_type": "markdown",
   "metadata": {},
   "source": [
    "Now I will tune the hyper parameters for the models. From now on I am only concerned with the non-engineered data."
   ]
  },
  {
   "cell_type": "code",
   "execution_count": 14,
   "metadata": {
    "scrolled": true
   },
   "outputs": [
    {
     "data": {
      "text/plain": [
       "GridSearchCV(cv=4, error_score='raise-deprecating',\n",
       "             estimator=RandomForestClassifier(bootstrap=True, class_weight=None,\n",
       "                                              criterion='gini', max_depth=None,\n",
       "                                              max_features='auto',\n",
       "                                              max_leaf_nodes=None,\n",
       "                                              min_impurity_decrease=0.0,\n",
       "                                              min_impurity_split=None,\n",
       "                                              min_samples_leaf=1,\n",
       "                                              min_samples_split=2,\n",
       "                                              min_weight_fraction_leaf=0.0,\n",
       "                                              n_estimators='warn', n_jobs=None,\n",
       "                                              oob_score=False,\n",
       "                                              random_state=None, verbose=0,\n",
       "                                              warm_start=False),\n",
       "             iid='warn', n_jobs=None,\n",
       "             param_grid={'max_depth': [2, 3, 4, 5, None],\n",
       "                         'n_estimators': [50, 100, 200]},\n",
       "             pre_dispatch='2*n_jobs', refit=True, return_train_score=False,\n",
       "             scoring=None, verbose=0)"
      ]
     },
     "execution_count": 14,
     "metadata": {},
     "output_type": "execute_result"
    }
   ],
   "source": [
    "# explore parameter tuning for finding hernias\n",
    "params = {\"max_depth\":[2,3,4,5,None],\n",
    "         \"n_estimators\":[50, 100, 200]}\n",
    "gscv = GridSearchCV(clf, params, cv=4)\n",
    "gscv.fit(X, y_hernia)"
   ]
  },
  {
   "cell_type": "code",
   "execution_count": 16,
   "metadata": {},
   "outputs": [
    {
     "name": "stdout",
     "output_type": "stream",
     "text": [
      "None\n",
      "50\n"
     ]
    }
   ],
   "source": [
    "print(gscv.best_estimator_.get_params()[\"max_depth\"])\n",
    "print(gscv.best_estimator_.get_params()[\"n_estimators\"])"
   ]
  },
  {
   "cell_type": "code",
   "execution_count": 17,
   "metadata": {},
   "outputs": [
    {
     "name": "stdout",
     "output_type": "stream",
     "text": [
      "\n",
      "\n",
      "recall\n",
      "[0.35714286 0.42857143 0.61538462 0.61538462]\n",
      "avg: 0.5041208791208791\n",
      "var: 0.013017374109407079\n",
      "\n",
      "\n",
      "precision\n",
      "[0.75       0.83333333 0.85714286 0.7       ]\n",
      "avg: 0.7851190476190477\n",
      "var: 0.003997661564625852\n",
      "\n",
      "\n",
      "accuracy\n",
      "[0.90140845 0.88571429 0.86956522 0.84057971]\n",
      "avg: 0.8743169159886857\n",
      "var: 0.0005061572469024458\n"
     ]
    }
   ],
   "source": [
    "# baseline scores\n",
    "find_scores(clf, X, y_hernia, scorers)"
   ]
  },
  {
   "cell_type": "code",
   "execution_count": 18,
   "metadata": {
    "scrolled": true
   },
   "outputs": [
    {
     "name": "stdout",
     "output_type": "stream",
     "text": [
      "\n",
      "\n",
      "recall\n",
      "[0.5        0.5        0.38461538 0.46153846]\n",
      "avg: 0.46153846153846156\n",
      "var: 0.0022189349112426027\n",
      "\n",
      "\n",
      "precision\n",
      "[0.6        0.875      0.58333333 0.63636364]\n",
      "avg: 0.6736742424242425\n",
      "var: 0.013878378960055096\n",
      "\n",
      "\n",
      "accuracy\n",
      "[0.85915493 0.88571429 0.82608696 0.85507246]\n",
      "avg: 0.8565071588954014\n",
      "var: 0.00044687850229050183\n"
     ]
    }
   ],
   "source": [
    "# after tuning\n",
    "find_scores(gscv.best_estimator_, X, y_hernia, scorers)"
   ]
  },
  {
   "cell_type": "code",
   "execution_count": 19,
   "metadata": {
    "scrolled": true
   },
   "outputs": [
    {
     "data": {
      "text/plain": [
       "GridSearchCV(cv=4, error_score='raise-deprecating',\n",
       "             estimator=RandomForestClassifier(bootstrap=True, class_weight=None,\n",
       "                                              criterion='gini', max_depth=None,\n",
       "                                              max_features='auto',\n",
       "                                              max_leaf_nodes=None,\n",
       "                                              min_impurity_decrease=0.0,\n",
       "                                              min_impurity_split=None,\n",
       "                                              min_samples_leaf=1,\n",
       "                                              min_samples_split=2,\n",
       "                                              min_weight_fraction_leaf=0.0,\n",
       "                                              n_estimators='warn', n_jobs=None,\n",
       "                                              oob_score=False,\n",
       "                                              random_state=None, verbose=0,\n",
       "                                              warm_start=False),\n",
       "             iid='warn', n_jobs=None,\n",
       "             param_grid={'max_depth': [2, 3, 4, 5, None],\n",
       "                         'n_estimators': [50, 100, 200]},\n",
       "             pre_dispatch='2*n_jobs', refit=True, return_train_score=False,\n",
       "             scoring=None, verbose=0)"
      ]
     },
     "execution_count": 19,
     "metadata": {},
     "output_type": "execute_result"
    }
   ],
   "source": [
    "# explore parameter tuning for finding hernias\n",
    "gscv2 = GridSearchCV(clf, params, cv=4)\n",
    "gscv2.fit(X, y_spond)"
   ]
  },
  {
   "cell_type": "code",
   "execution_count": 21,
   "metadata": {
    "scrolled": true
   },
   "outputs": [
    {
     "name": "stdout",
     "output_type": "stream",
     "text": [
      "5\n",
      "200\n"
     ]
    }
   ],
   "source": [
    "print(gscv2.best_estimator_.get_params()[\"max_depth\"])\n",
    "print(gscv2.best_estimator_.get_params()[\"n_estimators\"])"
   ]
  },
  {
   "cell_type": "code",
   "execution_count": 22,
   "metadata": {},
   "outputs": [
    {
     "name": "stdout",
     "output_type": "stream",
     "text": [
      "\n",
      "\n",
      "recall\n",
      "[0.97058824 0.97058824 0.88235294 0.93939394]\n",
      "avg: 0.9407308377896613\n",
      "var: 0.0012981736204447755\n",
      "\n",
      "\n",
      "precision\n",
      "[0.97058824 1.         0.96969697 0.94117647]\n",
      "avg: 0.9703654188948307\n",
      "var: 0.00043267489300046727\n",
      "\n",
      "\n",
      "accuracy\n",
      "[0.94285714 0.98571429 0.98571429 0.94202899]\n",
      "avg: 0.9640786749482402\n",
      "var: 0.00046818538379435126\n"
     ]
    }
   ],
   "source": [
    "# baseline scores\n",
    "find_scores(clf, X, y_spond, scorers)"
   ]
  },
  {
   "cell_type": "code",
   "execution_count": 23,
   "metadata": {
    "scrolled": true
   },
   "outputs": [
    {
     "name": "stdout",
     "output_type": "stream",
     "text": [
      "\n",
      "\n",
      "recall\n",
      "[0.94117647 0.97058824 1.         0.96969697]\n",
      "avg: 0.9703654188948306\n",
      "var: 0.00043267489300046727\n",
      "\n",
      "\n",
      "precision\n",
      "[0.96969697 1.         0.97142857 0.93939394]\n",
      "avg: 0.9701298701298702\n",
      "var: 0.00045969903112760173\n",
      "\n",
      "\n",
      "accuracy\n",
      "[0.95714286 0.97142857 0.98571429 0.95652174]\n",
      "avg: 0.9677018633540373\n",
      "var: 0.00014370587554492502\n"
     ]
    }
   ],
   "source": [
    "# after tuning\n",
    "find_scores(gscv2.best_estimator_, X, y_spond, scorers)"
   ]
  }
 ],
 "metadata": {
  "kernelspec": {
   "display_name": "Python 3",
   "language": "python",
   "name": "python3"
  },
  "language_info": {
   "codemirror_mode": {
    "name": "ipython",
    "version": 3
   },
   "file_extension": ".py",
   "mimetype": "text/x-python",
   "name": "python",
   "nbconvert_exporter": "python",
   "pygments_lexer": "ipython3",
   "version": "3.7.3"
  }
 },
 "nbformat": 4,
 "nbformat_minor": 2
}
